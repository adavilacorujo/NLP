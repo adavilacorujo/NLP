{
 "cells": [
  {
   "cell_type": "markdown",
   "metadata": {},
   "source": [
    "# EN.605.646.81: Natural Language Processing, Fall 2024\n",
    "## Applied and Computational Mathematics\n",
    "## Johns Hopkins University\n",
    "## Andres Davila Corujo"
   ]
  },
  {
   "cell_type": "markdown",
   "metadata": {},
   "source": [
    "### Lab 2: Language Models"
   ]
  },
  {
   "cell_type": "markdown",
   "metadata": {},
   "source": [
    "#### Synopsis\n",
    "\n",
    "In this lab we looked at naive language models, training to predict the next letter and words given n letters and words. We started by training a unigram letter model and worked our way up to a 5-gram letter model. When dealing with models that have a more context I noticed their predictive power also increased yet not by a lot - they plateaued. \n",
    "\n",
    "Using the models developed we tackled language classification and gender detection. In this report we show how/why a word language model performed poorly when compared to a letter language model. We also explored training word language models using corpora provided by NLTK in hopes of obtaining word models with better predictive powers. Unfortunately, this was not the case as the model's accuracy did not improve drastically.\n",
    "\n",
    "In conclusion, I'd say Markov language models can be great at mining the corpora for tasks such as the ones we tackle in this report. This approach could allow us to stem into other NLP tasks such as sentiment analysis and topic modeling given this approach essentially builds a frequency distribution. Simple, yet effective for understanding corpora."
   ]
  },
  {
   "cell_type": "markdown",
   "metadata": {},
   "source": [
    "(a) Simple Character LM"
   ]
  },
  {
   "cell_type": "code",
   "execution_count": 43,
   "metadata": {},
   "outputs": [],
   "source": [
    "import os\n",
    "from lab2.charlm import *\n",
    "\n",
    "subtitles = os.path.abspath('./lab2/subtitles.txt')\n",
    "\n",
    "order = 4\n",
    "four_gram_lm = train_char_lm(subtitles, order)"
   ]
  },
  {
   "cell_type": "code",
   "execution_count": 44,
   "metadata": {},
   "outputs": [
    {
     "name": "stdout",
     "output_type": "stream",
     "text": [
      "[('n', 0.9940436161014506),\n",
      " (' ', 0.00220962628494572),\n",
      " ('.', 0.0013930252665962147),\n",
      " (',', 0.0009607070804111826),\n",
      " ('?', 0.0003362474781439139),\n",
      " (\"'\", 0.00024017677010279565),\n",
      " ('u', 0.00019214141608223654),\n",
      " ('\"', 0.0001441060620616774),\n",
      " ('s', 0.0001441060620616774),\n",
      " ('-', 9.607070804111827e-05),\n",
      " ('!', 4.8035354020559135e-05),\n",
      " (':', 4.8035354020559135e-05),\n",
      " ('m', 4.8035354020559135e-05),\n",
      " ('p', 4.8035354020559135e-05),\n",
      " ('r', 4.8035354020559135e-05)]\n"
     ]
    }
   ],
   "source": [
    "print_probs(four_gram_lm, 'atio')"
   ]
  },
  {
   "cell_type": "code",
   "execution_count": 45,
   "metadata": {},
   "outputs": [
    {
     "name": "stdout",
     "output_type": "stream",
     "text": [
      "[('n', 0.8), ('e', 0.1), ('s', 0.1)]\n"
     ]
    }
   ],
   "source": [
    "print_probs(four_gram_lm, 'nivi')"
   ]
  },
  {
   "cell_type": "code",
   "execution_count": 46,
   "metadata": {},
   "outputs": [
    {
     "name": "stdout",
     "output_type": "stream",
     "text": [
      "[('r', 0.9992144540455616), ('s', 0.0007855459544383347)]\n"
     ]
    }
   ],
   "source": [
    "print_probs(four_gram_lm, 'supe')"
   ]
  },
  {
   "cell_type": "code",
   "execution_count": 52,
   "metadata": {},
   "outputs": [
    {
     "name": "stdout",
     "output_type": "stream",
     "text": [
      "('0.All right hay Lauren.\\n'\n",
      " 'Any the courself.\\n'\n",
      " 'He say I meal?\\n'\n",
      " 'Take it a battempt my is ')\n",
      "\n",
      "(\"1.It for love you're and you are your corner writies?\\n\"\n",
      " 'None ther.\\n'\n",
      " \"- Uh, 'cause work\")\n",
      "\n",
      "('2.- Shh!\\n'\n",
      " '- How does to longer and here.\\n'\n",
      " \"I'm sorry and like were is father really c\")\n",
      "\n"
     ]
    }
   ],
   "source": [
    "import pprint\n",
    "# generate random text\n",
    "character_length = 80\n",
    "for i in range(3):\n",
    "    sentence = generate_text(four_gram_lm, 4, character_length)\n",
    "    pprint.pp(f'{i}.' + generate_text(four_gram_lm, order, 80))\n",
    "    print()"
   ]
  },
  {
   "cell_type": "markdown",
   "metadata": {},
   "source": [
    "(b) Perplexity"
   ]
  },
  {
   "cell_type": "code",
   "execution_count": 53,
   "metadata": {},
   "outputs": [],
   "source": [
    "import math\n",
    "\n",
    "def perplexity(text, lm, order):\n",
    "    # Pad the input with \"~\" chars.  This handles the case where order > len(text).\n",
    "    pad = \"~\" * order\n",
    "    data = pad + text\n",
    "    # This is a stub.\n",
    "    N = len(text)   # total number of tokens\n",
    "    probs = []\n",
    "    index = 0\n",
    "    while index < N:\n",
    "        hist = data[index: index+order] # get the history in chunks of size 'order'\n",
    "        \"\"\" \n",
    "        get the other next character to obtain probability\n",
    "        of next_char given the hist\n",
    "        \"\"\"\n",
    "        next_char = data[index+order]    \n",
    "        # found flag\n",
    "        found = False\n",
    "        if hist in lm:\n",
    "            for character, prob in lm[hist]:\n",
    "                # search for matching character in model\n",
    "                if character == next_char:\n",
    "                    # extract probability in log space\n",
    "                    probs.append(math.log(prob))\n",
    "                    found = True\n",
    "\n",
    "        if not found: # if character was not found\n",
    "            probs.append(float('inf'))\n",
    "        index+=1\n",
    "    probs = sum(probs)\n",
    "    return math.exp(probs)**(-1/N)"
   ]
  },
  {
   "cell_type": "code",
   "execution_count": 54,
   "metadata": {},
   "outputs": [
    {
     "data": {
      "text/plain": [
       "3.909190367374623"
      ]
     },
     "execution_count": 54,
     "metadata": {},
     "output_type": "execute_result"
    }
   ],
   "source": [
    "perplexity('The boy loves his mother', four_gram_lm, 4)"
   ]
  },
  {
   "cell_type": "code",
   "execution_count": 55,
   "metadata": {},
   "outputs": [],
   "source": [
    "# train new 5-gram model\n",
    "order = 5\n",
    "five_gram_lm = train_char_lm(subtitles, order)\n"
   ]
  },
  {
   "cell_type": "code",
   "execution_count": 56,
   "metadata": {},
   "outputs": [
    {
     "name": "stdout",
     "output_type": "stream",
     "text": [
      "PERPLEXITY SCORES\n"
     ]
    },
    {
     "data": {
      "text/plain": [
       "'The student loves homework: 3.94295503931033'"
      ]
     },
     "metadata": {},
     "output_type": "display_data"
    },
    {
     "data": {
      "text/plain": [
       "'The yob loves homework: 0.0'"
      ]
     },
     "metadata": {},
     "output_type": "display_data"
    },
    {
     "data": {
      "text/plain": [
       "'It is raining in London: 3.649875707020062'"
      ]
     },
     "metadata": {},
     "output_type": "display_data"
    },
    {
     "data": {
      "text/plain": [
       "'asdfjkl;qwerty: 0.0'"
      ]
     },
     "metadata": {},
     "output_type": "display_data"
    }
   ],
   "source": [
    "# get perplexity for each sample\n",
    "print('PERPLEXITY SCORES')\n",
    "display('The student loves homework: {}'.format(perplexity('The student loves homework', five_gram_lm, order)))\n",
    "display('The yob loves homework: {}'.format(perplexity('The yob loves homework', five_gram_lm, order)))\n",
    "display('It is raining in London: {}'.format(perplexity('It is raining in London', five_gram_lm, order)))\n",
    "display('asdfjkl;qwerty: {}'.format(perplexity('asdfjkl;qwerty', five_gram_lm, order)))"
   ]
  },
  {
   "cell_type": "markdown",
   "metadata": {},
   "source": [
    "We can see some sentences have a perplexity score of 0. This is due to the use of positive inf for the zero probability. If we implement any type of smoothing this effect should be obviated"
   ]
  },
  {
   "cell_type": "markdown",
   "metadata": {},
   "source": [
    "(c) Naive Smoothing"
   ]
  },
  {
   "cell_type": "code",
   "execution_count": 84,
   "metadata": {},
   "outputs": [],
   "source": [
    "import math\n",
    "\n",
    "def smoothed_perplexity(text: str, lm: dict, order: int):\n",
    "    # Pad the input with \"~\" chars.  This handles the case where order > len(text).\n",
    "    pad = \"~\" * order\n",
    "    data = pad + text\n",
    "    # This is a stub.\n",
    "    N = len(text)   # total number of tokens\n",
    "    probs = []\n",
    "\n",
    "    for index in range(N):\n",
    "        hist: list = data[index: index+order] # get the history in chunks of size 'order'\n",
    "        \"\"\" \n",
    "        get the other next character to obtain probability\n",
    "        of next_char given the hist\n",
    "        \"\"\"\n",
    "        next_char: str = data[index+order]\n",
    "        # found flag\n",
    "        found = False\n",
    "        for character, prob in lm.get(hist, []):\n",
    "            # search for matching character in model\n",
    "            if character == next_char:\n",
    "                # extract probability in log space\n",
    "                probs.append(math.log(prob))\n",
    "                found = True\n",
    "\n",
    "        if not found: # if character was not found\n",
    "            probs.append(1.0e-7)\n",
    "\n",
    "    probs = sum(probs)\n",
    "    return math.exp(probs)**(-1/N)"
   ]
  },
  {
   "cell_type": "code",
   "execution_count": 58,
   "metadata": {},
   "outputs": [
    {
     "name": "stdout",
     "output_type": "stream",
     "text": [
      "PERPLEXITY SCORES\n"
     ]
    },
    {
     "data": {
      "text/plain": [
       "'The student loves homework: 3.94295503931033'"
      ]
     },
     "metadata": {},
     "output_type": "display_data"
    },
    {
     "data": {
      "text/plain": [
       "'The yob loves homework: 2.9702585208423953'"
      ]
     },
     "metadata": {},
     "output_type": "display_data"
    },
    {
     "data": {
      "text/plain": [
       "'It is raining in London: 3.649875707020062'"
      ]
     },
     "metadata": {},
     "output_type": "display_data"
    },
    {
     "data": {
      "text/plain": [
       "'asdfjkl;qwerty: 2.1138816358644523'"
      ]
     },
     "metadata": {},
     "output_type": "display_data"
    }
   ],
   "source": [
    "# get perplexity for each sample\n",
    "print('PERPLEXITY SCORES')\n",
    "display('The student loves homework: {}'.format(smoothed_perplexity('The student loves homework', five_gram_lm, order)))\n",
    "display('The yob loves homework: {}'.format(smoothed_perplexity('The yob loves homework', five_gram_lm, order)))\n",
    "display('It is raining in London: {}'.format(smoothed_perplexity('It is raining in London', five_gram_lm, order)))\n",
    "display('asdfjkl;qwerty: {}'.format(smoothed_perplexity('asdfjkl;qwerty', five_gram_lm, order)))"
   ]
  },
  {
   "cell_type": "markdown",
   "metadata": {},
   "source": [
    "As we can see with a naive smoothing perplexity scores are no longer reduced to 0"
   ]
  },
  {
   "cell_type": "markdown",
   "metadata": {},
   "source": [
    "(d) Language Identification"
   ]
  },
  {
   "cell_type": "code",
   "execution_count": 94,
   "metadata": {},
   "outputs": [
    {
     "name": "stdout",
     "output_type": "stream",
     "text": [
      "[*] Training models...\n"
     ]
    },
    {
     "name": "stderr",
     "output_type": "stream",
     "text": [
      "100%|██████████| 10/10 [00:54<00:00,  5.47s/it]"
     ]
    },
    {
     "name": "stdout",
     "output_type": "stream",
     "text": [
      "...models trained!\n"
     ]
    },
    {
     "name": "stderr",
     "output_type": "stream",
     "text": [
      "\n"
     ]
    }
   ],
   "source": [
    "# training 5 models\n",
    "import tqdm\n",
    "ORDER = 10\n",
    "print('[*] Training models...')\n",
    "letter_models = {}\n",
    "for order in tqdm.tqdm(range(ORDER)):\n",
    "    letter_models[order] = {\n",
    "        'da': train_char_lm(os.path.abspath('./lab2/da.train.txt'), order),\n",
    "        'de': train_char_lm(os.path.abspath('./lab2/de.train.txt'), order),\n",
    "        'en': train_char_lm(os.path.abspath('./lab2/en.train.txt'), order),\n",
    "        'fr': train_char_lm(os.path.abspath('./lab2/fr.train.txt'), order),\n",
    "        'it': train_char_lm(os.path.abspath('./lab2/it.train.txt'), order),\n",
    "        'nl': train_char_lm(os.path.abspath('./lab2/nl.train.txt'), order)\n",
    "    }\n",
    "print('...models trained!')"
   ]
  },
  {
   "cell_type": "code",
   "execution_count": 61,
   "metadata": {},
   "outputs": [],
   "source": [
    "# load test file\n",
    "TEST_PATH = os.path.abspath('./lab2/test.txt')\n",
    "test_data = open(TEST_PATH, 'r', encoding='utf-8').readlines()"
   ]
  },
  {
   "cell_type": "markdown",
   "metadata": {},
   "source": [
    "### Run each model on the first sentence of the test data"
   ]
  },
  {
   "cell_type": "code",
   "execution_count": 95,
   "metadata": {},
   "outputs": [
    {
     "data": {
      "text/plain": [
       "<Axes: xlabel='lang', ylabel='score'>"
      ]
     },
     "execution_count": 95,
     "metadata": {},
     "output_type": "execute_result"
    },
    {
     "data": {
      "image/png": "[encoded data removed]",
      "text/plain": [
       "<Figure size 640x480 with 1 Axes>"
      ]
     },
     "metadata": {},
     "output_type": "display_data"
    }
   ],
   "source": [
    "# get pred for all unigram models for first sentence\n",
    "history = {\n",
    "    'sentence_id': [],\n",
    "    'perplexity_score': [],\n",
    "    'language_pred': [],\n",
    "    'language_truth': []\n",
    "}\n",
    "\n",
    "text = test_data[0]\n",
    "# history\n",
    "model_scores = {\n",
    "    'order': [],\n",
    "    'score': [],\n",
    "    'lang': []\n",
    "}\n",
    "\n",
    "# iterate over all models\n",
    "for order in range(ORDER):\n",
    "    ngram_model = letter_models[order]\n",
    "    # iterate over all languages for this ngram model\n",
    "    for model_lang, model in ngram_model.items():\n",
    "        try:\n",
    "            score = smoothed_perplexity(text, model, order=order)\n",
    "        except ZeroDivisionError as e:\n",
    "            score = 0\n",
    "\n",
    "        model_scores['lang'].append(model_lang)\n",
    "        model_scores['score'].append(score)\n",
    "        model_scores['order'].append(order)\n",
    "\n",
    "\n",
    "\n",
    "import pandas as pd\n",
    "import seaborn as sns\n",
    "\n",
    "sns.barplot(pd.DataFrame(model_scores), x='lang', y='score', hue='order')"
   ]
  },
  {
   "cell_type": "markdown",
   "metadata": {},
   "source": [
    "We can see each language model yields a lower perplexity score as they obtain more context. This is indicative that models of higher order will yield better results, i.e. higher accuracy scores. Let's test it out."
   ]
  },
  {
   "cell_type": "code",
   "execution_count": 96,
   "metadata": {},
   "outputs": [],
   "source": [
    "import pandas as pd\n",
    "RESULTS=pd.DataFrame()"
   ]
  },
  {
   "cell_type": "code",
   "execution_count": 97,
   "metadata": {},
   "outputs": [],
   "source": [
    "def test_ngram_model(test_data: list[str], order: int, ngram_models: dict[dict]):\n",
    "    \"\"\"\n",
    "    Test an ngram model for language detection. The function \n",
    "    takes in a list of tab deliniated sentences where the left side \n",
    "    defines the language and the right side defines the sentence.\n",
    "    \n",
    "    Once the function runs through all the languages, it picks the \n",
    "    one with the lowest perplexity score.\n",
    "    \"\"\"\n",
    "    history = {\n",
    "        'sentence_id': [],\n",
    "        'perplexity_score': [],\n",
    "        'language_pred': [],\n",
    "        'language_truth': [],\n",
    "        'order': []\n",
    "    }\n",
    "    for sentence_index, test in enumerate(test_data):\n",
    "        # get the text\n",
    "        language = test.split('\\t')[0]\n",
    "        text = test.split('\\t')[1]\n",
    "\n",
    "        # iterate over the unigram models\n",
    "        model_scores  = []\n",
    "        for model_lang, model in ngram_models.items():\n",
    "            try:\n",
    "                score = smoothed_perplexity(text, model, order=order)\n",
    "            except ZeroDivisionError as e:\n",
    "                score = 0\n",
    "\n",
    "            model_scores.append({\n",
    "                'model': model_lang,\n",
    "                'score': score\n",
    "            })\n",
    "        model_scores.sort(key=lambda x: x['score'])\n",
    "        best_model = model_scores[0]\n",
    "        history['sentence_id'].append(sentence_index+1)\n",
    "        history['perplexity_score'].append(best_model.get('score'))\n",
    "        history['language_pred'].append(best_model.get('model'))\n",
    "        history['language_truth'].append(language)\n",
    "        history['order'].append(order)\n",
    "    \n",
    "    import pandas as pd\n",
    "    ngram_metrics = pd.DataFrame(history)\n",
    "    return ngram_metrics\n",
    "\n",
    "def get_metrics(metrics: pd.DataFrame):\n",
    "    \"\"\"\n",
    "    Print metrics for a given test suite\n",
    "    \"\"\"\n",
    "    import numpy as np\n",
    "    languages = ['da', 'de', 'en', 'fr', 'it', 'nl']\n",
    "    for language in languages:\n",
    "        local_metrics = metrics[metrics['language_truth'] == language]\n",
    "        accuracy = np.mean(local_metrics['language_pred'] == local_metrics['language_truth'])\n",
    "        print(f\"{language} - {accuracy*100}% - {accuracy*len(local_metrics)} / {len(local_metrics)}\")"
   ]
  },
  {
   "cell_type": "markdown",
   "metadata": {},
   "source": [
    "#### Test Results for All Models"
   ]
  },
  {
   "cell_type": "code",
   "execution_count": 99,
   "metadata": {},
   "outputs": [
    {
     "name": "stderr",
     "output_type": "stream",
     "text": [
      " 10%|█         | 1/10 [00:01<00:16,  1.80s/it]"
     ]
    },
    {
     "name": "stdout",
     "output_type": "stream",
     "text": [
      "da - 19.5% - 39.0 / 200\n",
      "de - 49.0% - 98.0 / 200\n",
      "en - 87.0% - 174.0 / 200\n",
      "fr - 19.0% - 38.0 / 200\n",
      "it - 74.0% - 148.0 / 200\n",
      "nl - 83.0% - 166.0 / 200\n"
     ]
    },
    {
     "name": "stderr",
     "output_type": "stream",
     "text": [
      " 20%|██        | 2/10 [00:02<00:10,  1.30s/it]"
     ]
    },
    {
     "name": "stdout",
     "output_type": "stream",
     "text": [
      "da - 80.0% - 160.0 / 200\n",
      "de - 95.0% - 190.0 / 200\n",
      "en - 95.5% - 191.0 / 200\n",
      "fr - 73.5% - 147.0 / 200\n",
      "it - 95.0% - 190.0 / 200\n",
      "nl - 95.5% - 191.0 / 200\n"
     ]
    },
    {
     "name": "stderr",
     "output_type": "stream",
     "text": [
      " 30%|███       | 3/10 [00:03<00:07,  1.05s/it]"
     ]
    },
    {
     "name": "stdout",
     "output_type": "stream",
     "text": [
      "da - 83.5% - 167.0 / 200\n",
      "de - 92.5% - 185.0 / 200\n",
      "en - 98.0% - 196.0 / 200\n",
      "fr - 86.0% - 172.0 / 200\n",
      "it - 96.5% - 193.0 / 200\n",
      "nl - 95.0% - 190.0 / 200\n"
     ]
    },
    {
     "name": "stderr",
     "output_type": "stream",
     "text": [
      " 40%|████      | 4/10 [00:04<00:05,  1.12it/s]"
     ]
    },
    {
     "name": "stdout",
     "output_type": "stream",
     "text": [
      "da - 22.0% - 44.0 / 200\n",
      "de - 41.0% - 82.0 / 200\n",
      "en - 51.5% - 103.0 / 200\n",
      "fr - 52.0% - 104.0 / 200\n",
      "it - 68.0% - 136.0 / 200\n",
      "nl - 23.0% - 46.0 / 200\n"
     ]
    },
    {
     "name": "stderr",
     "output_type": "stream",
     "text": [
      " 50%|█████     | 5/10 [00:04<00:03,  1.26it/s]"
     ]
    },
    {
     "name": "stdout",
     "output_type": "stream",
     "text": [
      "da - 0.0% - 0.0 / 200\n",
      "de - 0.0% - 0.0 / 200\n",
      "en - 0.0% - 0.0 / 200\n",
      "fr - 0.0% - 0.0 / 200\n",
      "it - 0.0% - 0.0 / 200\n",
      "nl - 0.0% - 0.0 / 200\n"
     ]
    },
    {
     "name": "stderr",
     "output_type": "stream",
     "text": [
      " 60%|██████    | 6/10 [00:05<00:02,  1.41it/s]"
     ]
    },
    {
     "name": "stdout",
     "output_type": "stream",
     "text": [
      "da - 0.0% - 0.0 / 200\n",
      "de - 0.0% - 0.0 / 200\n",
      "en - 0.0% - 0.0 / 200\n",
      "fr - 0.0% - 0.0 / 200\n",
      "it - 0.0% - 0.0 / 200\n",
      "nl - 0.0% - 0.0 / 200\n"
     ]
    },
    {
     "name": "stderr",
     "output_type": "stream",
     "text": [
      " 70%|███████   | 7/10 [00:05<00:01,  1.57it/s]"
     ]
    },
    {
     "name": "stdout",
     "output_type": "stream",
     "text": [
      "da - 0.0% - 0.0 / 200\n",
      "de - 0.0% - 0.0 / 200\n",
      "en - 0.0% - 0.0 / 200\n",
      "fr - 0.0% - 0.0 / 200\n",
      "it - 0.0% - 0.0 / 200\n",
      "nl - 0.0% - 0.0 / 200\n"
     ]
    },
    {
     "name": "stderr",
     "output_type": "stream",
     "text": [
      " 80%|████████  | 8/10 [00:06<00:01,  1.73it/s]"
     ]
    },
    {
     "name": "stdout",
     "output_type": "stream",
     "text": [
      "da - 0.5% - 1.0 / 200\n",
      "de - 0.0% - 0.0 / 200\n",
      "en - 0.0% - 0.0 / 200\n",
      "fr - 0.0% - 0.0 / 200\n",
      "it - 0.0% - 0.0 / 200\n",
      "nl - 0.0% - 0.0 / 200\n"
     ]
    },
    {
     "name": "stderr",
     "output_type": "stream",
     "text": [
      " 90%|█████████ | 9/10 [00:06<00:00,  1.86it/s]"
     ]
    },
    {
     "name": "stdout",
     "output_type": "stream",
     "text": [
      "da - 0.0% - 0.0 / 200\n",
      "de - 0.0% - 0.0 / 200\n",
      "en - 0.0% - 0.0 / 200\n",
      "fr - 0.0% - 0.0 / 200\n",
      "it - 0.0% - 0.0 / 200\n",
      "nl - 0.0% - 0.0 / 200\n"
     ]
    },
    {
     "name": "stderr",
     "output_type": "stream",
     "text": [
      "100%|██████████| 10/10 [00:07<00:00,  1.38it/s]"
     ]
    },
    {
     "name": "stdout",
     "output_type": "stream",
     "text": [
      "da - 0.0% - 0.0 / 200\n",
      "de - 0.0% - 0.0 / 200\n",
      "en - 0.5% - 1.0 / 200\n",
      "fr - 0.0% - 0.0 / 200\n",
      "it - 0.0% - 0.0 / 200\n",
      "nl - 0.0% - 0.0 / 200\n"
     ]
    },
    {
     "name": "stderr",
     "output_type": "stream",
     "text": [
      "\n"
     ]
    }
   ],
   "source": [
    "LANG_RESULTS = pd.DataFrame()\n",
    "for order in tqdm.tqdm(range(ORDER)):\n",
    "    ngram_metrics = test_ngram_model(test_data=test_data, order=order, ngram_models=letter_models[order])\n",
    "    get_metrics(ngram_metrics)\n",
    "    LANG_RESULTS = pd.concat([LANG_RESULTS, ngram_metrics])\n",
    "    "
   ]
  },
  {
   "cell_type": "markdown",
   "metadata": {},
   "source": [
    "Wow those aren't great results given high ngram models. Let's visualize the perplexity scores then."
   ]
  },
  {
   "cell_type": "code",
   "execution_count": 100,
   "metadata": {},
   "outputs": [
    {
     "data": {
      "text/plain": [
       "<Axes: xlabel='language_truth', ylabel='perplexity_score'>"
      ]
     },
     "execution_count": 100,
     "metadata": {},
     "output_type": "execute_result"
    },
    {
     "data": {
      "image/png": "[encoded data removed]",
      "text/plain": [
       "<Figure size 640x480 with 1 Axes>"
      ]
     },
     "metadata": {},
     "output_type": "display_data"
    }
   ],
   "source": [
    "import seaborn as sns\n",
    "perplexity_by_language = LANG_RESULTS[['language_truth', 'order', 'perplexity_score']].groupby(['language_truth', 'order']).mean()\n",
    "perplexity_by_language['language_truth'] = [lang[0] for lang in perplexity_by_language.index]\n",
    "perplexity_by_language['order'] = [lang[1] for lang in perplexity_by_language.index]\n",
    "\n",
    "sns.barplot(data=perplexity_by_language, x='language_truth', y='perplexity_score', hue='order')"
   ]
  },
  {
   "cell_type": "markdown",
   "metadata": {},
   "source": [
    "We can see how the 10-gram model (order of 9+1) gives the lowest perplexity score for each language. This makes sense as a lower perplexity score describes models with a higher predictive power. Lower models tend to be very volatile given they are basically performing zero-shot predictions, hence a model's order and its perplexity score have a negative correlation."
   ]
  },
  {
   "cell_type": "code",
   "execution_count": 101,
   "metadata": {},
   "outputs": [
    {
     "name": "stderr",
     "output_type": "stream",
     "text": [
      "/opt/homebrew/anaconda3/lib/python3.11/site-packages/seaborn/_oldcore.py:1765: FutureWarning: unique with argument that is not not a Series, Index, ExtensionArray, or np.ndarray is deprecated and will raise in a future version.\n",
      "  order = pd.unique(vector)\n"
     ]
    },
    {
     "data": {
      "text/plain": [
       "<Axes: >"
      ]
     },
     "execution_count": 101,
     "metadata": {},
     "output_type": "execute_result"
    },
    {
     "data": {
      "image/png": "[encoded data removed]",
      "text/plain": [
       "<Figure size 640x480 with 1 Axes>"
      ]
     },
     "metadata": {},
     "output_type": "display_data"
    }
   ],
   "source": [
    "import numpy as np\n",
    "# get accuracy by order\n",
    "order_results = {\n",
    "    'order': [],\n",
    "    'accuracy': []\n",
    "}\n",
    "\n",
    "by_order = LANG_RESULTS[['language_truth', 'language_pred', 'order']].groupby('order').agg(list)\n",
    "\n",
    "for order in by_order.index:\n",
    "    truths: np.ndarray = by_order[by_order.index == order]['language_truth'].values\n",
    "    preds: np.ndarray = by_order[by_order.index == order]['language_pred'].values\n",
    "    truths: list = truths[0]\n",
    "    preds: list = preds[0]\n",
    "    running_accuracy = 0\n",
    "    for i in range(len(truths)):\n",
    "        running_accuracy += int(truths[i] == preds[i])\n",
    "    accuracy = running_accuracy / len(truths)\n",
    "    order_results['order'].append(order)\n",
    "    order_results['accuracy'].append(accuracy)\n",
    "\n",
    "sns.barplot(data=order_results, x='order', y='accuracy')"
   ]
  },
  {
   "cell_type": "markdown",
   "metadata": {},
   "source": [
    "Here we can see a trigram model performs best with a fourgram model dropping its accuracy significantly. This goes to show that a model yielding low perplexity scores is not necessarily indicative of an accurate one.\n",
    "\n",
    "The reason we have 0 accuracy, or very poor, is due to the language model not having the history to predict provide a prediction. Given our naive approach, this happens due to our model not having enough training data. One would say we could provide more data and call it a day, but that's not always the solution. If we add more data and make this more expensive, there's no guarantee the model will perform when dealing with unforeseen data.\n",
    "\n",
    "This is an aggregate representation, not taking into consideration the accuracy of a model by language. Let's see how that looks like."
   ]
  },
  {
   "cell_type": "code",
   "execution_count": 102,
   "metadata": {},
   "outputs": [
    {
     "name": "stderr",
     "output_type": "stream",
     "text": [
      "/opt/homebrew/anaconda3/lib/python3.11/site-packages/seaborn/_oldcore.py:1765: FutureWarning: unique with argument that is not not a Series, Index, ExtensionArray, or np.ndarray is deprecated and will raise in a future version.\n",
      "  order = pd.unique(vector)\n",
      "/opt/homebrew/anaconda3/lib/python3.11/site-packages/seaborn/_oldcore.py:1765: FutureWarning: unique with argument that is not not a Series, Index, ExtensionArray, or np.ndarray is deprecated and will raise in a future version.\n",
      "  order = pd.unique(vector)\n"
     ]
    },
    {
     "data": {
      "text/plain": [
       "<Axes: >"
      ]
     },
     "execution_count": 102,
     "metadata": {},
     "output_type": "execute_result"
    },
    {
     "data": {
      "image/png": "[encoded data removed]",
      "text/plain": [
       "<Figure size 640x480 with 1 Axes>"
      ]
     },
     "metadata": {},
     "output_type": "display_data"
    }
   ],
   "source": [
    "# break down accuracy by order and language\n",
    "# get accuracy by order\n",
    "order_results = {\n",
    "    'order': [],\n",
    "    'accuracy': [],\n",
    "    'language': []\n",
    "}\n",
    "\n",
    "languages = ['da', 'de', 'en', 'fr', 'it', 'nl']\n",
    "\n",
    "for order in by_order.index:\n",
    "    for language in languages:\n",
    "        language_results = LANG_RESULTS[LANG_RESULTS['language_truth'] == language]\n",
    "        by_order = language_results[['language_truth', 'language_pred', 'order']].groupby('order').agg(list)\n",
    "\n",
    "        truths: np.ndarray = by_order[by_order.index == order]['language_truth'].values\n",
    "        preds: np.ndarray = by_order[by_order.index == order]['language_pred'].values\n",
    "        truths: list = truths[0]\n",
    "        preds: list = preds[0]\n",
    "        running_accuracy = 0\n",
    "        for i in range(len(truths)):\n",
    "            running_accuracy += int(truths[i] == preds[i])\n",
    "        accuracy = running_accuracy / len(truths)\n",
    "        order_results['order'].append(order)\n",
    "        order_results['accuracy'].append(accuracy)\n",
    "        order_results['language'].append(language)\n",
    "\n",
    "sns.barplot(data=order_results, x='order', y='accuracy', hue='language')"
   ]
  },
  {
   "cell_type": "markdown",
   "metadata": {},
   "source": [
    "Here we can see the models perform best for english, italian, and dutch. We can also see bi- and tri-gram models is the sweet spot we want to be for this dataset, yielding higher overall accuracy for each language."
   ]
  },
  {
   "cell_type": "markdown",
   "metadata": {},
   "source": [
    "(e) Gender Bias"
   ]
  },
  {
   "cell_type": "markdown",
   "metadata": {},
   "source": [
    "Let's create two training datasets, one for M and one for F. This is done to make training easier by just passing a reference to a file."
   ]
  },
  {
   "cell_type": "code",
   "execution_count": 103,
   "metadata": {},
   "outputs": [],
   "source": [
    "# seperate training data by class\n",
    "import os\n",
    "tennis_train_data = open(os.path.abspath('./lab2/tennis.train.txt'), 'r', encoding='utf-8').readlines()\n",
    "male_tennis_train_data = open(os.path.abspath('./lab2/tennis.train.male.txt'), 'a')\n",
    "female_tennis_train_data = open(os.path.abspath('./lab2/tennis.train.female.txt'), 'a')\n",
    "tennis_test_data = open(os.path.abspath('./lab2/tennis.test.txt'), 'r', encoding='utf-8').readlines()\n",
    "\n",
    "for training_data in tennis_train_data:\n",
    "    gender = training_data.split('\\t')[0]\n",
    "    text = training_data.split('\\t')[1]\n",
    "\n",
    "    if gender == 'M':\n",
    "        male_tennis_train_data.write(text)\n",
    "    if gender == 'F':\n",
    "        female_tennis_train_data.write(text)"
   ]
  },
  {
   "cell_type": "code",
   "execution_count": 105,
   "metadata": {},
   "outputs": [
    {
     "name": "stderr",
     "output_type": "stream",
     "text": [
      "100%|██████████| 10/10 [03:26<00:00, 20.64s/it]\n"
     ]
    }
   ],
   "source": [
    "# train 5 models\n",
    "import tqdm\n",
    "models = {}\n",
    "for order in tqdm.tqdm(range(ORDER)):\n",
    "    models[order] = {\n",
    "        'm': train_char_lm(os.path.abspath('./lab2/tennis.train.male.txt'), order),\n",
    "        'f': train_char_lm(os.path.abspath('./lab2/tennis.train.female.txt'), order),\n",
    "    }"
   ]
  },
  {
   "cell_type": "code",
   "execution_count": 36,
   "metadata": {},
   "outputs": [],
   "source": [
    "def test_ngram_model(\n",
    "        test_data: list, \n",
    "        order: int, \n",
    "        ngram_models: dict\n",
    ") -> pd.DataFrame:\n",
    "    \"\"\"\n",
    "    Test an ngram model against a list of sentences\n",
    "    \"\"\"\n",
    "    history = {\n",
    "        'sentence_id': [],\n",
    "        'perplexity_score': [],\n",
    "        'gender_pred': [],\n",
    "        'gender_truth': [],\n",
    "        'order': []\n",
    "    }\n",
    "    for sentence_index, test in enumerate(test_data):\n",
    "        # get the text\n",
    "        gender = test.split('\\t')[0]\n",
    "        text = test.split('\\t')[1]\n",
    "\n",
    "        # iterate over the unigram models\n",
    "        model_scores  = []\n",
    "        for gender_model, model in ngram_models.items():\n",
    "            try:\n",
    "                score = smoothed_perplexity(text, model, order=order)\n",
    "            except ZeroDivisionError as e:\n",
    "                score = 0\n",
    "\n",
    "            model_scores.append({\n",
    "                'model': gender_model,\n",
    "                'score': score\n",
    "            })\n",
    "\n",
    "        model_scores.sort(key=lambda x: x['score'])\n",
    "        best_model = model_scores[0]\n",
    "        history['sentence_id'].append(sentence_index+1)\n",
    "        history['perplexity_score'].append(best_model.get('score'))\n",
    "        history['gender_pred'].append(best_model.get('model'))\n",
    "        history['gender_truth'].append(gender.lower())\n",
    "        history['order'].append(order)\n",
    "    \n",
    "    import pandas as pd\n",
    "    ngram_metrics = pd.DataFrame(history)\n",
    "    return ngram_metrics"
   ]
  },
  {
   "cell_type": "code",
   "execution_count": 106,
   "metadata": {},
   "outputs": [],
   "source": [
    "import pandas as pd\n",
    "\n",
    "def get_metrics_gender(metrics: pd.DataFrame):\n",
    "    \"\"\"\n",
    "    Print metrics for a given test suite\n",
    "    \"\"\"\n",
    "    import numpy as np\n",
    "    genders = ['m', 'f']\n",
    "    for gender in genders:\n",
    "        local_metrics = metrics[metrics['language_truth'] == gender]\n",
    "        accuracy = np.mean(local_metrics['language_pred'] == local_metrics['language_truth'])\n",
    "        print(f\"Model {gender} has accuracy {accuracy*100}% with {accuracy*len(local_metrics)} out of {len(local_metrics)}\")"
   ]
  },
  {
   "cell_type": "code",
   "execution_count": 108,
   "metadata": {},
   "outputs": [
    {
     "name": "stderr",
     "output_type": "stream",
     "text": [
      "100%|██████████| 10/10 [00:13<00:00,  1.39s/it]\n"
     ]
    }
   ],
   "source": [
    "# obtain metrics for all 5 models\n",
    "GENDER_RESULTS = pd.DataFrame()\n",
    "for order in tqdm.tqdm(range(ORDER)):\n",
    "    fourgram_metrics = test_ngram_model(\n",
    "        test_data=tennis_test_data, \n",
    "        order=order,\n",
    "        ngram_models=models.get(order, {})\n",
    "    )\n",
    "    GENDER_RESULTS = pd.concat([GENDER_RESULTS, fourgram_metrics])"
   ]
  },
  {
   "cell_type": "code",
   "execution_count": 109,
   "metadata": {},
   "outputs": [
    {
     "data": {
      "text/html": [
       "<div>\n",
       "<style scoped>\n",
       "    .dataframe tbody tr th:only-of-type {\n",
       "        vertical-align: middle;\n",
       "    }\n",
       "\n",
       "    .dataframe tbody tr th {\n",
       "        vertical-align: top;\n",
       "    }\n",
       "\n",
       "    .dataframe thead th {\n",
       "        text-align: right;\n",
       "    }\n",
       "</style>\n",
       "<table border=\"1\" class=\"dataframe\">\n",
       "  <thead>\n",
       "    <tr style=\"text-align: right;\">\n",
       "      <th></th>\n",
       "      <th>sentence_id</th>\n",
       "      <th>perplexity_score</th>\n",
       "      <th>language_pred</th>\n",
       "      <th>language_truth</th>\n",
       "      <th>order</th>\n",
       "    </tr>\n",
       "  </thead>\n",
       "  <tbody>\n",
       "    <tr>\n",
       "      <th>0</th>\n",
       "      <td>1</td>\n",
       "      <td>20.462310</td>\n",
       "      <td>f</td>\n",
       "      <td>M</td>\n",
       "      <td>0</td>\n",
       "    </tr>\n",
       "    <tr>\n",
       "      <th>1</th>\n",
       "      <td>2</td>\n",
       "      <td>20.787650</td>\n",
       "      <td>m</td>\n",
       "      <td>M</td>\n",
       "      <td>0</td>\n",
       "    </tr>\n",
       "    <tr>\n",
       "      <th>2</th>\n",
       "      <td>3</td>\n",
       "      <td>22.113956</td>\n",
       "      <td>m</td>\n",
       "      <td>M</td>\n",
       "      <td>0</td>\n",
       "    </tr>\n",
       "    <tr>\n",
       "      <th>3</th>\n",
       "      <td>4</td>\n",
       "      <td>24.730183</td>\n",
       "      <td>f</td>\n",
       "      <td>M</td>\n",
       "      <td>0</td>\n",
       "    </tr>\n",
       "    <tr>\n",
       "      <th>4</th>\n",
       "      <td>5</td>\n",
       "      <td>19.305490</td>\n",
       "      <td>f</td>\n",
       "      <td>M</td>\n",
       "      <td>0</td>\n",
       "    </tr>\n",
       "    <tr>\n",
       "      <th>...</th>\n",
       "      <td>...</td>\n",
       "      <td>...</td>\n",
       "      <td>...</td>\n",
       "      <td>...</td>\n",
       "      <td>...</td>\n",
       "    </tr>\n",
       "    <tr>\n",
       "      <th>8209</th>\n",
       "      <td>8210</td>\n",
       "      <td>1.752385</td>\n",
       "      <td>f</td>\n",
       "      <td>M</td>\n",
       "      <td>9</td>\n",
       "    </tr>\n",
       "    <tr>\n",
       "      <th>8210</th>\n",
       "      <td>8211</td>\n",
       "      <td>1.688257</td>\n",
       "      <td>f</td>\n",
       "      <td>M</td>\n",
       "      <td>9</td>\n",
       "    </tr>\n",
       "    <tr>\n",
       "      <th>8211</th>\n",
       "      <td>8212</td>\n",
       "      <td>1.488845</td>\n",
       "      <td>f</td>\n",
       "      <td>M</td>\n",
       "      <td>9</td>\n",
       "    </tr>\n",
       "    <tr>\n",
       "      <th>8212</th>\n",
       "      <td>8213</td>\n",
       "      <td>1.420969</td>\n",
       "      <td>m</td>\n",
       "      <td>M</td>\n",
       "      <td>9</td>\n",
       "    </tr>\n",
       "    <tr>\n",
       "      <th>8213</th>\n",
       "      <td>8214</td>\n",
       "      <td>1.548232</td>\n",
       "      <td>m</td>\n",
       "      <td>M</td>\n",
       "      <td>9</td>\n",
       "    </tr>\n",
       "  </tbody>\n",
       "</table>\n",
       "<p>82140 rows × 5 columns</p>\n",
       "</div>"
      ],
      "text/plain": [
       "      sentence_id  perplexity_score language_pred language_truth  order\n",
       "0               1         20.462310             f              M      0\n",
       "1               2         20.787650             m              M      0\n",
       "2               3         22.113956             m              M      0\n",
       "3               4         24.730183             f              M      0\n",
       "4               5         19.305490             f              M      0\n",
       "...           ...               ...           ...            ...    ...\n",
       "8209         8210          1.752385             f              M      9\n",
       "8210         8211          1.688257             f              M      9\n",
       "8211         8212          1.488845             f              M      9\n",
       "8212         8213          1.420969             m              M      9\n",
       "8213         8214          1.548232             m              M      9\n",
       "\n",
       "[82140 rows x 5 columns]"
      ]
     },
     "execution_count": 109,
     "metadata": {},
     "output_type": "execute_result"
    }
   ],
   "source": [
    "GENDER_RESULTS"
   ]
  },
  {
   "cell_type": "code",
   "execution_count": 110,
   "metadata": {},
   "outputs": [],
   "source": [
    "# change column names to match gender\n",
    "GENDER_RESULTS['gender_pred'] = GENDER_RESULTS['language_pred']\n",
    "GENDER_RESULTS['gender_truth'] = GENDER_RESULTS['language_truth'].apply(lambda x: x.lower())"
   ]
  },
  {
   "cell_type": "code",
   "execution_count": 111,
   "metadata": {},
   "outputs": [
    {
     "data": {
      "text/html": [
       "<div>\n",
       "<style scoped>\n",
       "    .dataframe tbody tr th:only-of-type {\n",
       "        vertical-align: middle;\n",
       "    }\n",
       "\n",
       "    .dataframe tbody tr th {\n",
       "        vertical-align: top;\n",
       "    }\n",
       "\n",
       "    .dataframe thead th {\n",
       "        text-align: right;\n",
       "    }\n",
       "</style>\n",
       "<table border=\"1\" class=\"dataframe\">\n",
       "  <thead>\n",
       "    <tr style=\"text-align: right;\">\n",
       "      <th></th>\n",
       "      <th>sentence_id</th>\n",
       "      <th>perplexity_score</th>\n",
       "      <th>language_pred</th>\n",
       "      <th>language_truth</th>\n",
       "      <th>order</th>\n",
       "      <th>gender_pred</th>\n",
       "      <th>gender_truth</th>\n",
       "    </tr>\n",
       "  </thead>\n",
       "  <tbody>\n",
       "    <tr>\n",
       "      <th>0</th>\n",
       "      <td>1</td>\n",
       "      <td>20.462310</td>\n",
       "      <td>f</td>\n",
       "      <td>M</td>\n",
       "      <td>0</td>\n",
       "      <td>f</td>\n",
       "      <td>m</td>\n",
       "    </tr>\n",
       "    <tr>\n",
       "      <th>1</th>\n",
       "      <td>2</td>\n",
       "      <td>20.787650</td>\n",
       "      <td>m</td>\n",
       "      <td>M</td>\n",
       "      <td>0</td>\n",
       "      <td>m</td>\n",
       "      <td>m</td>\n",
       "    </tr>\n",
       "    <tr>\n",
       "      <th>2</th>\n",
       "      <td>3</td>\n",
       "      <td>22.113956</td>\n",
       "      <td>m</td>\n",
       "      <td>M</td>\n",
       "      <td>0</td>\n",
       "      <td>m</td>\n",
       "      <td>m</td>\n",
       "    </tr>\n",
       "    <tr>\n",
       "      <th>3</th>\n",
       "      <td>4</td>\n",
       "      <td>24.730183</td>\n",
       "      <td>f</td>\n",
       "      <td>M</td>\n",
       "      <td>0</td>\n",
       "      <td>f</td>\n",
       "      <td>m</td>\n",
       "    </tr>\n",
       "    <tr>\n",
       "      <th>4</th>\n",
       "      <td>5</td>\n",
       "      <td>19.305490</td>\n",
       "      <td>f</td>\n",
       "      <td>M</td>\n",
       "      <td>0</td>\n",
       "      <td>f</td>\n",
       "      <td>m</td>\n",
       "    </tr>\n",
       "    <tr>\n",
       "      <th>...</th>\n",
       "      <td>...</td>\n",
       "      <td>...</td>\n",
       "      <td>...</td>\n",
       "      <td>...</td>\n",
       "      <td>...</td>\n",
       "      <td>...</td>\n",
       "      <td>...</td>\n",
       "    </tr>\n",
       "    <tr>\n",
       "      <th>8209</th>\n",
       "      <td>8210</td>\n",
       "      <td>1.752385</td>\n",
       "      <td>f</td>\n",
       "      <td>M</td>\n",
       "      <td>9</td>\n",
       "      <td>f</td>\n",
       "      <td>m</td>\n",
       "    </tr>\n",
       "    <tr>\n",
       "      <th>8210</th>\n",
       "      <td>8211</td>\n",
       "      <td>1.688257</td>\n",
       "      <td>f</td>\n",
       "      <td>M</td>\n",
       "      <td>9</td>\n",
       "      <td>f</td>\n",
       "      <td>m</td>\n",
       "    </tr>\n",
       "    <tr>\n",
       "      <th>8211</th>\n",
       "      <td>8212</td>\n",
       "      <td>1.488845</td>\n",
       "      <td>f</td>\n",
       "      <td>M</td>\n",
       "      <td>9</td>\n",
       "      <td>f</td>\n",
       "      <td>m</td>\n",
       "    </tr>\n",
       "    <tr>\n",
       "      <th>8212</th>\n",
       "      <td>8213</td>\n",
       "      <td>1.420969</td>\n",
       "      <td>m</td>\n",
       "      <td>M</td>\n",
       "      <td>9</td>\n",
       "      <td>m</td>\n",
       "      <td>m</td>\n",
       "    </tr>\n",
       "    <tr>\n",
       "      <th>8213</th>\n",
       "      <td>8214</td>\n",
       "      <td>1.548232</td>\n",
       "      <td>m</td>\n",
       "      <td>M</td>\n",
       "      <td>9</td>\n",
       "      <td>m</td>\n",
       "      <td>m</td>\n",
       "    </tr>\n",
       "  </tbody>\n",
       "</table>\n",
       "<p>82140 rows × 7 columns</p>\n",
       "</div>"
      ],
      "text/plain": [
       "      sentence_id  perplexity_score language_pred language_truth  order  \\\n",
       "0               1         20.462310             f              M      0   \n",
       "1               2         20.787650             m              M      0   \n",
       "2               3         22.113956             m              M      0   \n",
       "3               4         24.730183             f              M      0   \n",
       "4               5         19.305490             f              M      0   \n",
       "...           ...               ...           ...            ...    ...   \n",
       "8209         8210          1.752385             f              M      9   \n",
       "8210         8211          1.688257             f              M      9   \n",
       "8211         8212          1.488845             f              M      9   \n",
       "8212         8213          1.420969             m              M      9   \n",
       "8213         8214          1.548232             m              M      9   \n",
       "\n",
       "     gender_pred gender_truth  \n",
       "0              f            m  \n",
       "1              m            m  \n",
       "2              m            m  \n",
       "3              f            m  \n",
       "4              f            m  \n",
       "...          ...          ...  \n",
       "8209           f            m  \n",
       "8210           f            m  \n",
       "8211           f            m  \n",
       "8212           m            m  \n",
       "8213           m            m  \n",
       "\n",
       "[82140 rows x 7 columns]"
      ]
     },
     "execution_count": 111,
     "metadata": {},
     "output_type": "execute_result"
    }
   ],
   "source": [
    "GENDER_RESULTS"
   ]
  },
  {
   "cell_type": "markdown",
   "metadata": {},
   "source": [
    "##### Aggregate accuracy by order"
   ]
  },
  {
   "cell_type": "code",
   "execution_count": 112,
   "metadata": {},
   "outputs": [
    {
     "name": "stderr",
     "output_type": "stream",
     "text": [
      "/opt/homebrew/anaconda3/lib/python3.11/site-packages/seaborn/_oldcore.py:1765: FutureWarning: unique with argument that is not not a Series, Index, ExtensionArray, or np.ndarray is deprecated and will raise in a future version.\n",
      "  order = pd.unique(vector)\n"
     ]
    },
    {
     "data": {
      "text/plain": [
       "<Axes: >"
      ]
     },
     "execution_count": 112,
     "metadata": {},
     "output_type": "execute_result"
    },
    {
     "data": {
      "image/png": "[encoded data removed]",
      "text/plain": [
       "<Figure size 640x480 with 1 Axes>"
      ]
     },
     "metadata": {},
     "output_type": "display_data"
    }
   ],
   "source": [
    "import numpy as np\n",
    "import seaborn as sns\n",
    "\n",
    "# get accuracy by order\n",
    "order_results = {\n",
    "    'order': [],\n",
    "    'accuracy': []\n",
    "}\n",
    "\n",
    "by_order = GENDER_RESULTS[['gender_truth', 'gender_pred', 'order']].groupby('order').agg(list)\n",
    "\n",
    "for order in by_order.index:\n",
    "    truths: np.ndarray = by_order[by_order.index == order]['gender_truth'].values\n",
    "    preds: np.ndarray = by_order[by_order.index == order]['gender_pred'].values\n",
    "    truths: list = truths[0]\n",
    "    preds: list = preds[0]\n",
    "    running_accuracy = 0\n",
    "    for i in range(len(truths)):\n",
    "        running_accuracy += int(truths[i] == preds[i])\n",
    "    accuracy = running_accuracy / len(truths)\n",
    "    order_results['order'].append(order)\n",
    "    order_results['accuracy'].append(accuracy)\n",
    "\n",
    "sns.barplot(data=order_results, x='order', y='accuracy')"
   ]
  },
  {
   "cell_type": "markdown",
   "metadata": {},
   "source": [
    "Here we can see a trigram model (order=2) is the best model for this classification task. We can see this isn't the best model with an overall accuracy just above 60%. Maybe using a world lm rather than a character lm would yield better results. Regardless, let's see how accurate each model is per gender."
   ]
  },
  {
   "cell_type": "markdown",
   "metadata": {},
   "source": [
    "#### Accuracy by gender and order"
   ]
  },
  {
   "cell_type": "code",
   "execution_count": 113,
   "metadata": {},
   "outputs": [
    {
     "name": "stderr",
     "output_type": "stream",
     "text": [
      "/opt/homebrew/anaconda3/lib/python3.11/site-packages/seaborn/_oldcore.py:1765: FutureWarning: unique with argument that is not not a Series, Index, ExtensionArray, or np.ndarray is deprecated and will raise in a future version.\n",
      "  order = pd.unique(vector)\n",
      "/opt/homebrew/anaconda3/lib/python3.11/site-packages/seaborn/_oldcore.py:1765: FutureWarning: unique with argument that is not not a Series, Index, ExtensionArray, or np.ndarray is deprecated and will raise in a future version.\n",
      "  order = pd.unique(vector)\n"
     ]
    },
    {
     "data": {
      "text/plain": [
       "<Axes: >"
      ]
     },
     "execution_count": 113,
     "metadata": {},
     "output_type": "execute_result"
    },
    {
     "data": {
      "image/png": "[encoded data removed]",
      "text/plain": [
       "<Figure size 640x480 with 1 Axes>"
      ]
     },
     "metadata": {},
     "output_type": "display_data"
    }
   ],
   "source": [
    "# break down accuracy by order and language\n",
    "# get accuracy by order\n",
    "order_results = {\n",
    "    'order': [],\n",
    "    'accuracy': [],\n",
    "    'gender': []\n",
    "}\n",
    "\n",
    "genders = ['m', 'f']\n",
    "\n",
    "for order in by_order.index:\n",
    "    for gender in genders:\n",
    "        language_results = GENDER_RESULTS[GENDER_RESULTS['gender_truth'] == gender]\n",
    "        by_order = language_results[['gender_truth', 'gender_pred', 'order']].groupby('order').agg(list)\n",
    "\n",
    "        truths: np.ndarray = by_order[by_order.index == order]['gender_truth'].values\n",
    "        preds: np.ndarray = by_order[by_order.index == order]['gender_pred'].values\n",
    "        truths: list = truths[0]\n",
    "        preds: list = preds[0]\n",
    "        running_accuracy = 0\n",
    "        for i in range(len(truths)):\n",
    "            running_accuracy += int(truths[i] == preds[i])\n",
    "        accuracy = running_accuracy / len(truths)\n",
    "        order_results['order'].append(order)\n",
    "        order_results['accuracy'].append(accuracy)\n",
    "        order_results['gender'].append(gender)\n",
    "\n",
    "sns.barplot(data=order_results, x='order', y='accuracy', hue='gender')"
   ]
  },
  {
   "cell_type": "markdown",
   "metadata": {},
   "source": [
    "As we saw before a trigram model (order=2) performs the best for this specific task. In the plot above we can see a model for Females yields better results than a model for Male. My assumption is that the model yields more true positives and/or true negatives than the model for Males."
   ]
  },
  {
   "cell_type": "markdown",
   "metadata": {},
   "source": [
    "#### Word LM\n",
    "Let's see if we can get better results using a word language model"
   ]
  },
  {
   "cell_type": "markdown",
   "metadata": {},
   "source": [
    "(f) Word LM"
   ]
  },
  {
   "cell_type": "code",
   "execution_count": 116,
   "metadata": {},
   "outputs": [],
   "source": [
    "import os\n",
    "import tqdm\n",
    "import math\n",
    "import pandas as pd\n",
    "from collections import defaultdict, Counter\n",
    "from nltk.tokenize import word_tokenize\n",
    "\n",
    "def train_word_lm(fname, order=4):\n",
    "    data = open(fname).read()\n",
    "    sents = data.split('\\n')\n",
    "    lm = defaultdict(Counter)\n",
    "    for s in tqdm.tqdm(sents):\n",
    "        s = word_tokenize(s)\n",
    "        pad = ['~']*order\n",
    "        for j in range(len(s)):\n",
    "            pad.extend([s[j]])\n",
    "            data = pad\n",
    "            for i in range(len(data)-order):\n",
    "                history, word = data[i: i+order], data[i+order]\n",
    "                lm[\" \".join(history)][word]+=1\n",
    "\n",
    "    outlm = {hist:normalize(words) for hist, words in lm.items()}\n",
    "    return outlm\n",
    "\n",
    "\n",
    "# define metric\n",
    "def smoothed_perplexity_word_lm(text: str, lm: dict, order: int):\n",
    "    # Pad the input with \"~\" chars.  This handles the case where order > len(text).\n",
    "    pad = [\"~\"]*order\n",
    "    text = word_tokenize(text)\n",
    "\n",
    "    pad.extend(text)\n",
    "    data = pad\n",
    "    # This is a stub.\n",
    "    N = len(data)   # total number of tokens\n",
    "    probs = []\n",
    "\n",
    "    for index in range(len(text)):\n",
    "        hist: list = data[index: index+order] # get the history in chunks of size 'order'\n",
    "        hist = \" \".join(hist)\n",
    "        \"\"\" \n",
    "        get the other next character to obtain probability\n",
    "        of next_char given the hist\n",
    "        \"\"\"\n",
    "        next_word: str = data[index+order]\n",
    "        # found flag\n",
    "        found = False\n",
    "        for word, prob in lm.get(hist, []):\n",
    "            # search for matching character in model\n",
    "            if word == next_word:\n",
    "                # extract probability in log space\n",
    "                probs.append(math.log(prob))\n",
    "                found = True\n",
    "\n",
    "        if not found: # if character was not found\n",
    "            probs.append(1.0e-7)\n",
    "\n",
    "    probs = sum(probs)\n",
    "    return math.exp(probs)**(-1/N)\n",
    "\n",
    "# generate random text\n",
    "# Given a character LM, randomly choose a next character given this history and return it\n",
    "def generate_word(lm, history, order):\n",
    "        history = history[-order:]\n",
    "        history = \" \".join(history)\n",
    "        dist = lm[history]\n",
    "        x = random()\n",
    "        for c,v in dist:\n",
    "            x = x - v\n",
    "            if x <= 0: return c\n",
    "\n",
    "# Generate a random text by repeatedly calling generate_word\n",
    "def generate_text_word(lm, order, nwords=1000):\n",
    "    history = [\"~\"] * order\n",
    "    out = []\n",
    "    for i in range(nwords):\n",
    "        word = generate_word(lm, history, order)\n",
    "        history[-order:].extend(word)\n",
    "        out.append(word)\n",
    "        if word == '\\n':\n",
    "            history = \"~\" * order\n",
    "    return \" \".join(out)\n",
    "\n",
    "def normalize(counter):\n",
    "        s = float(sum(counter.values()))\n",
    "        return [(c,cnt/s) for c,cnt in counter.items()]\n",
    "\n",
    "def test_ngram_model_word(test_data, order, ngram_models):\n",
    "    history = {\n",
    "        'sentence_id': [],\n",
    "        'perplexity_score': [],\n",
    "        'language_pred': [],\n",
    "        'language_truth': [],\n",
    "        'order': []\n",
    "    }\n",
    "    scores = []\n",
    "    for sentence_index, test in enumerate(test_data):\n",
    "        # get the text\n",
    "        language = test.split('\\t')[0]\n",
    "        text = test.split('\\t')[1]\n",
    "\n",
    "        # iterate over the unigram models\n",
    "        model_scores  = []\n",
    "        for model_lang, model in ngram_models.items():\n",
    "            try:\n",
    "                score = smoothed_perplexity_word_lm(text, model, order=order)\n",
    "            except ZeroDivisionError as e:\n",
    "                score = 0\n",
    "            model_scores.append({\n",
    "                'model': model_lang,\n",
    "                'score': score\n",
    "            })\n",
    "        scores.append(model_scores)\n",
    "        model_scores.sort(key=lambda x: x['score'])\n",
    "        best_model = model_scores[0]\n",
    "        history['sentence_id'].append(sentence_index+1)\n",
    "        history['perplexity_score'].append(best_model.get('score'))\n",
    "        history['language_pred'].append(best_model.get('model'))\n",
    "        history['language_truth'].append(language)\n",
    "        history['order'].append(order)\n",
    "    \n",
    "    import pandas as pd\n",
    "    ngram_metrics = pd.DataFrame(history)\n",
    "    return ngram_metrics, scores"
   ]
  },
  {
   "cell_type": "code",
   "execution_count": null,
   "metadata": {},
   "outputs": [],
   "source": [
    "# train a 5-gram language model\n",
    "order = 5\n",
    "subtitles = os.path.abspath('./lab2/subtitles.txt')\n",
    "five_gram_lm = train_word_lm(subtitles, order=order)"
   ]
  },
  {
   "cell_type": "code",
   "execution_count": 117,
   "metadata": {},
   "outputs": [
    {
     "data": {
      "text/plain": [
       "'We The But If Relax I I Your Well You He I - I I'"
      ]
     },
     "execution_count": 117,
     "metadata": {},
     "output_type": "execute_result"
    }
   ],
   "source": [
    "generate_text_word(five_gram_lm, order, nwords=15)"
   ]
  },
  {
   "cell_type": "markdown",
   "metadata": {},
   "source": [
    "(e) Language Identification Word Language Model"
   ]
  },
  {
   "cell_type": "markdown",
   "metadata": {},
   "source": [
    "#### Train word LM for language identification"
   ]
  },
  {
   "cell_type": "code",
   "execution_count": 122,
   "metadata": {},
   "outputs": [
    {
     "name": "stdout",
     "output_type": "stream",
     "text": [
      "[*] Training 1-gram models...\n"
     ]
    },
    {
     "name": "stderr",
     "output_type": "stream",
     "text": [
      "100%|██████████| 10001/10001 [00:00<00:00, 11701.34it/s]\n",
      "100%|██████████| 10001/10001 [00:00<00:00, 10996.04it/s]\n",
      "100%|██████████| 10001/10001 [00:01<00:00, 8763.90it/s]\n",
      "100%|██████████| 10001/10001 [00:01<00:00, 8060.23it/s]\n",
      "100%|██████████| 10001/10001 [00:00<00:00, 10248.11it/s]\n",
      "100%|██████████| 10001/10001 [00:00<00:00, 11657.63it/s]\n"
     ]
    },
    {
     "name": "stdout",
     "output_type": "stream",
     "text": [
      "[*] Training 2-gram models...\n"
     ]
    },
    {
     "name": "stderr",
     "output_type": "stream",
     "text": [
      "100%|██████████| 10001/10001 [00:00<00:00, 10964.71it/s]\n",
      "100%|██████████| 10001/10001 [00:00<00:00, 10233.19it/s]\n",
      "100%|██████████| 10001/10001 [00:01<00:00, 8234.92it/s]\n",
      "100%|██████████| 10001/10001 [00:01<00:00, 7521.13it/s]\n",
      "100%|██████████| 10001/10001 [00:01<00:00, 9469.97it/s]\n",
      "100%|██████████| 10001/10001 [00:00<00:00, 10812.58it/s]\n"
     ]
    },
    {
     "name": "stdout",
     "output_type": "stream",
     "text": [
      "[*] Training 3-gram models...\n"
     ]
    },
    {
     "name": "stderr",
     "output_type": "stream",
     "text": [
      "100%|██████████| 10001/10001 [00:01<00:00, 9068.08it/s]\n",
      "100%|██████████| 10001/10001 [00:01<00:00, 8604.65it/s]\n",
      "100%|██████████| 10001/10001 [00:01<00:00, 6483.51it/s]\n",
      "100%|██████████| 10001/10001 [00:01<00:00, 6077.87it/s]\n",
      "100%|██████████| 10001/10001 [00:01<00:00, 7637.13it/s]\n",
      "100%|██████████| 10001/10001 [00:01<00:00, 9568.49it/s]\n"
     ]
    },
    {
     "name": "stdout",
     "output_type": "stream",
     "text": [
      "[*] Training 4-gram models...\n"
     ]
    },
    {
     "name": "stderr",
     "output_type": "stream",
     "text": [
      "100%|██████████| 10001/10001 [00:01<00:00, 9052.08it/s]\n",
      "100%|██████████| 10001/10001 [00:01<00:00, 8351.15it/s]\n",
      "100%|██████████| 10001/10001 [00:01<00:00, 6439.29it/s]\n",
      "100%|██████████| 10001/10001 [00:01<00:00, 5865.98it/s]\n",
      "100%|██████████| 10001/10001 [00:01<00:00, 7378.83it/s]\n",
      "100%|██████████| 10001/10001 [00:01<00:00, 9293.81it/s]\n"
     ]
    },
    {
     "name": "stdout",
     "output_type": "stream",
     "text": [
      "[*] Training 5-gram models...\n"
     ]
    },
    {
     "name": "stderr",
     "output_type": "stream",
     "text": [
      "100%|██████████| 10001/10001 [00:01<00:00, 8801.26it/s]\n",
      "100%|██████████| 10001/10001 [00:01<00:00, 8232.72it/s]\n",
      "100%|██████████| 10001/10001 [00:01<00:00, 6393.65it/s]\n",
      "100%|██████████| 10001/10001 [00:01<00:00, 5800.64it/s]\n",
      "100%|██████████| 10001/10001 [00:01<00:00, 7312.34it/s]\n",
      "100%|██████████| 10001/10001 [00:06<00:00, 1598.45it/s]\n"
     ]
    },
    {
     "name": "stdout",
     "output_type": "stream",
     "text": [
      "[*] Training 6-gram models...\n"
     ]
    },
    {
     "name": "stderr",
     "output_type": "stream",
     "text": [
      "100%|██████████| 10001/10001 [00:01<00:00, 8786.11it/s]\n",
      "100%|██████████| 10001/10001 [00:01<00:00, 8088.59it/s]\n",
      "100%|██████████| 10001/10001 [00:01<00:00, 6220.70it/s]\n",
      "100%|██████████| 10001/10001 [00:01<00:00, 5693.47it/s]\n",
      "100%|██████████| 10001/10001 [00:01<00:00, 7003.95it/s]\n",
      "100%|██████████| 10001/10001 [00:01<00:00, 8739.10it/s]\n"
     ]
    },
    {
     "name": "stdout",
     "output_type": "stream",
     "text": [
      "[*] Training 7-gram models...\n"
     ]
    },
    {
     "name": "stderr",
     "output_type": "stream",
     "text": [
      "100%|██████████| 10001/10001 [00:01<00:00, 8259.71it/s]\n",
      "100%|██████████| 10001/10001 [00:01<00:00, 7817.72it/s]\n",
      "100%|██████████| 10001/10001 [00:01<00:00, 5997.50it/s]\n",
      "100%|██████████| 10001/10001 [00:01<00:00, 5363.98it/s]\n",
      "100%|██████████| 10001/10001 [00:01<00:00, 6981.45it/s]\n",
      "100%|██████████| 10001/10001 [00:01<00:00, 8637.25it/s]\n"
     ]
    },
    {
     "name": "stdout",
     "output_type": "stream",
     "text": [
      "[*] Training 8-gram models...\n"
     ]
    },
    {
     "name": "stderr",
     "output_type": "stream",
     "text": [
      "100%|██████████| 10001/10001 [00:01<00:00, 7880.49it/s]\n",
      "100%|██████████| 10001/10001 [00:01<00:00, 7593.63it/s]\n",
      "100%|██████████| 10001/10001 [00:01<00:00, 5826.09it/s]\n",
      "100%|██████████| 10001/10001 [00:01<00:00, 5226.99it/s]\n",
      "100%|██████████| 10001/10001 [00:01<00:00, 6812.44it/s]\n",
      "100%|██████████| 10001/10001 [00:01<00:00, 8621.40it/s]\n"
     ]
    },
    {
     "name": "stdout",
     "output_type": "stream",
     "text": [
      "[*] Training 9-gram models...\n"
     ]
    },
    {
     "name": "stderr",
     "output_type": "stream",
     "text": [
      "100%|██████████| 10001/10001 [00:01<00:00, 8041.64it/s]\n",
      "100%|██████████| 10001/10001 [00:01<00:00, 7300.30it/s]\n",
      "100%|██████████| 10001/10001 [00:01<00:00, 5694.96it/s]\n",
      "100%|██████████| 10001/10001 [00:01<00:00, 5146.55it/s]\n",
      "100%|██████████| 10001/10001 [00:01<00:00, 6943.49it/s]\n",
      "100%|██████████| 10001/10001 [00:01<00:00, 8652.70it/s]\n"
     ]
    },
    {
     "name": "stdout",
     "output_type": "stream",
     "text": [
      "[*] Training 10-gram models...\n"
     ]
    },
    {
     "name": "stderr",
     "output_type": "stream",
     "text": [
      "100%|██████████| 10001/10001 [00:01<00:00, 8031.96it/s]\n",
      "100%|██████████| 10001/10001 [00:01<00:00, 7519.78it/s]\n",
      "100%|██████████| 10001/10001 [00:06<00:00, 1437.34it/s]\n",
      "100%|██████████| 10001/10001 [00:01<00:00, 5171.78it/s]\n",
      "100%|██████████| 10001/10001 [00:01<00:00, 6800.74it/s]\n",
      "100%|██████████| 10001/10001 [00:01<00:00, 8474.99it/s]\n"
     ]
    }
   ],
   "source": [
    "import tqdm\n",
    "\n",
    "word_models = {}\n",
    "languages = {\n",
    "    'de': os.path.abspath('./lab2/de.train.txt'),\n",
    "    'da': os.path.abspath('./lab2/da.train.txt'),\n",
    "    'en': os.path.abspath('./lab2/en.train.txt'),\n",
    "    'fr': os.path.abspath('./lab2/fr.train.txt'),\n",
    "    'it': os.path.abspath('./lab2/it.train.txt'),\n",
    "    'nl': os.path.abspath('./lab2/nl.train.txt')\n",
    "}\n",
    "\n",
    "for order in range(ORDER):\n",
    "    language_models = {}\n",
    "    print(f'[*] Training {order+1}-gram models...')\n",
    "    for language, path in languages.items():\n",
    "        language_models[language] = train_word_lm(path, order)\n",
    "    word_models[order] = language_models\n"
   ]
  },
  {
   "cell_type": "code",
   "execution_count": 123,
   "metadata": {},
   "outputs": [
    {
     "name": "stdout",
     "output_type": "stream",
     "text": [
      "[*] Model 1 metrics\n",
      "Model da has accuracy 0.0% with 0.0 out of 200\n",
      "Model de has accuracy 0.0% with 0.0 out of 200\n",
      "Model en has accuracy 0.0% with 0.0 out of 200\n",
      "Model fr has accuracy 0.0% with 0.0 out of 200\n",
      "Model it has accuracy 0.0% with 0.0 out of 200\n",
      "Model nl has accuracy 0.0% with 0.0 out of 200\n",
      "[*] Model 2 metrics\n",
      "Model da has accuracy 0.0% with 0.0 out of 200\n",
      "Model de has accuracy 1.0% with 2.0 out of 200\n",
      "Model en has accuracy 0.0% with 0.0 out of 200\n",
      "Model fr has accuracy 0.0% with 0.0 out of 200\n",
      "Model it has accuracy 0.5% with 1.0 out of 200\n",
      "Model nl has accuracy 0.0% with 0.0 out of 200\n",
      "[*] Model 3 metrics\n",
      "Model da has accuracy 0.5% with 1.0 out of 200\n",
      "Model de has accuracy 9.5% with 19.0 out of 200\n",
      "Model en has accuracy 0.0% with 0.0 out of 200\n",
      "Model fr has accuracy 0.0% with 0.0 out of 200\n",
      "Model it has accuracy 0.5% with 1.0 out of 200\n",
      "Model nl has accuracy 3.5000000000000004% with 7.000000000000001 out of 200\n",
      "[*] Model 4 metrics\n",
      "Model da has accuracy 1.0% with 2.0 out of 200\n",
      "Model de has accuracy 17.5% with 35.0 out of 200\n",
      "Model en has accuracy 0.0% with 0.0 out of 200\n",
      "Model fr has accuracy 0.0% with 0.0 out of 200\n",
      "Model it has accuracy 0.5% with 1.0 out of 200\n",
      "Model nl has accuracy 7.000000000000001% with 14.000000000000002 out of 200\n",
      "[*] Model 5 metrics\n",
      "Model da has accuracy 1.0% with 2.0 out of 200\n",
      "Model de has accuracy 19.0% with 38.0 out of 200\n",
      "Model en has accuracy 0.0% with 0.0 out of 200\n",
      "Model fr has accuracy 0.0% with 0.0 out of 200\n",
      "Model it has accuracy 1.5% with 3.0 out of 200\n",
      "Model nl has accuracy 8.0% with 16.0 out of 200\n",
      "[*] Model 6 metrics\n",
      "Model da has accuracy 1.0% with 2.0 out of 200\n",
      "Model de has accuracy 19.0% with 38.0 out of 200\n",
      "Model en has accuracy 0.0% with 0.0 out of 200\n",
      "Model fr has accuracy 0.0% with 0.0 out of 200\n",
      "Model it has accuracy 2.0% with 4.0 out of 200\n",
      "Model nl has accuracy 8.0% with 16.0 out of 200\n",
      "[*] Model 7 metrics\n",
      "Model da has accuracy 1.0% with 2.0 out of 200\n",
      "Model de has accuracy 19.0% with 38.0 out of 200\n",
      "Model en has accuracy 0.0% with 0.0 out of 200\n",
      "Model fr has accuracy 0.0% with 0.0 out of 200\n",
      "Model it has accuracy 2.0% with 4.0 out of 200\n",
      "Model nl has accuracy 8.0% with 16.0 out of 200\n",
      "[*] Model 8 metrics\n",
      "Model da has accuracy 1.0% with 2.0 out of 200\n",
      "Model de has accuracy 19.0% with 38.0 out of 200\n",
      "Model en has accuracy 0.0% with 0.0 out of 200\n",
      "Model fr has accuracy 0.0% with 0.0 out of 200\n",
      "Model it has accuracy 2.0% with 4.0 out of 200\n",
      "Model nl has accuracy 8.0% with 16.0 out of 200\n",
      "[*] Model 9 metrics\n",
      "Model da has accuracy 1.0% with 2.0 out of 200\n",
      "Model de has accuracy 19.0% with 38.0 out of 200\n",
      "Model en has accuracy 0.0% with 0.0 out of 200\n",
      "Model fr has accuracy 0.0% with 0.0 out of 200\n",
      "Model it has accuracy 2.0% with 4.0 out of 200\n",
      "Model nl has accuracy 8.0% with 16.0 out of 200\n",
      "[*] Model 10 metrics\n",
      "Model da has accuracy 1.0% with 2.0 out of 200\n",
      "Model de has accuracy 19.0% with 38.0 out of 200\n",
      "Model en has accuracy 0.0% with 0.0 out of 200\n",
      "Model fr has accuracy 0.0% with 0.0 out of 200\n",
      "Model it has accuracy 2.0% with 4.0 out of 200\n",
      "Model nl has accuracy 8.0% with 16.0 out of 200\n"
     ]
    }
   ],
   "source": [
    "# test models on test data\n",
    "test_data = open('./lab2/test.txt').readlines()\n",
    "def get_metrics(metrics: pd.DataFrame):\n",
    "        \"\"\"\n",
    "        Print metrics for a given test suite\n",
    "        \"\"\"\n",
    "        from sklearn.metrics import accuracy_score\n",
    "        languages = ['da', 'de', 'en', 'fr', 'it', 'nl']\n",
    "        for language in languages:\n",
    "            local_metrics = metrics[metrics['language_truth'] == language]\n",
    "            accuracy = accuracy_score(y_true=local_metrics['language_truth'], y_pred=local_metrics['language_pred'])\n",
    "            print(f\"Model {language} has accuracy {accuracy*100}% with {accuracy*len(local_metrics)} out of {len(local_metrics)}\")\n",
    "\n",
    "\n",
    "RESULTS = pd.DataFrame()\n",
    "scores = []\n",
    "for order in range(ORDER):\n",
    "    n_gram_metrics, score = test_ngram_model_word(test_data, order=order, ngram_models=word_models[order])\n",
    "    scores.append(score)\n",
    "    print(f'[*] Model {order+1} metrics')\n",
    "    get_metrics(n_gram_metrics)\n",
    "    RESULTS = pd.concat([RESULTS, n_gram_metrics])"
   ]
  },
  {
   "cell_type": "markdown",
   "metadata": {},
   "source": [
    "From the outputs above we can see the models gradually improve due to having more context, or history, yet plateau shortly after. Intuitively I thought these models would yield higher results yet they do not. This alludes to the need of having more training data."
   ]
  },
  {
   "cell_type": "markdown",
   "metadata": {},
   "source": [
    "#### Aggregate accuracy by order"
   ]
  },
  {
   "cell_type": "code",
   "execution_count": 124,
   "metadata": {},
   "outputs": [
    {
     "name": "stderr",
     "output_type": "stream",
     "text": [
      "/opt/homebrew/anaconda3/lib/python3.11/site-packages/seaborn/_oldcore.py:1765: FutureWarning: unique with argument that is not not a Series, Index, ExtensionArray, or np.ndarray is deprecated and will raise in a future version.\n",
      "  order = pd.unique(vector)\n"
     ]
    },
    {
     "data": {
      "text/plain": [
       "<Axes: >"
      ]
     },
     "execution_count": 124,
     "metadata": {},
     "output_type": "execute_result"
    },
    {
     "data": {
      "image/png": "[encoded data removed]",
      "text/plain": [
       "<Figure size 640x480 with 1 Axes>"
      ]
     },
     "metadata": {},
     "output_type": "display_data"
    }
   ],
   "source": [
    "import numpy as np\n",
    "import seaborn as sns\n",
    "from sklearn.metrics import accuracy_score\n",
    "# get accuracy by order\n",
    "order_results = {\n",
    "    'order': [],\n",
    "    'accuracy': []\n",
    "}\n",
    "\n",
    "by_order = RESULTS[['language_truth', 'language_pred', 'order']].groupby('order').agg(list)\n",
    "\n",
    "for order in by_order.index:\n",
    "    truths: np.ndarray = by_order[by_order.index == order]['language_truth'].values\n",
    "    preds: np.ndarray = by_order[by_order.index == order]['language_pred'].values\n",
    "    truths: list = truths[0]\n",
    "    preds: list = preds[0]\n",
    "    running_accuracy = 0\n",
    "    accuracy = accuracy_score(y_true=truths,y_pred=preds)\n",
    "    order_results['order'].append(order)\n",
    "    order_results['accuracy'].append(accuracy)\n",
    "\n",
    "sns.barplot(data=order_results, x='order', y='accuracy')"
   ]
  },
  {
   "cell_type": "markdown",
   "metadata": {},
   "source": [
    "In the plot above we see the aggregate accuracy per n_gram model. The x axis represents the amount of history, or words, the model has as context. The y axis represents the aggregate accuracy for all models, regardless of language. This metric could be skewed given some models behave better than others. Let's break down the accuracy by order and by language."
   ]
  },
  {
   "cell_type": "markdown",
   "metadata": {},
   "source": [
    "#### Accuracy by language and order"
   ]
  },
  {
   "cell_type": "code",
   "execution_count": 125,
   "metadata": {},
   "outputs": [
    {
     "name": "stderr",
     "output_type": "stream",
     "text": [
      "/opt/homebrew/anaconda3/lib/python3.11/site-packages/seaborn/_oldcore.py:1765: FutureWarning: unique with argument that is not not a Series, Index, ExtensionArray, or np.ndarray is deprecated and will raise in a future version.\n",
      "  order = pd.unique(vector)\n",
      "/opt/homebrew/anaconda3/lib/python3.11/site-packages/seaborn/_oldcore.py:1765: FutureWarning: unique with argument that is not not a Series, Index, ExtensionArray, or np.ndarray is deprecated and will raise in a future version.\n",
      "  order = pd.unique(vector)\n"
     ]
    },
    {
     "data": {
      "text/plain": [
       "<Axes: >"
      ]
     },
     "execution_count": 125,
     "metadata": {},
     "output_type": "execute_result"
    },
    {
     "data": {
      "image/png": "[encoded data removed]",
      "text/plain": [
       "<Figure size 640x480 with 1 Axes>"
      ]
     },
     "metadata": {},
     "output_type": "display_data"
    }
   ],
   "source": [
    "# break down accuracy by order and language\n",
    "# get accuracy by order\n",
    "order_results = {\n",
    "    'order': [],\n",
    "    'accuracy': [],\n",
    "    'language': []\n",
    "}\n",
    "\n",
    "languages = ['da', 'de', 'en', 'fr', 'it', 'nl']\n",
    "\n",
    "for order in by_order.index:\n",
    "    for language in languages:\n",
    "        language_results = RESULTS[RESULTS['language_truth'] == language]\n",
    "        by_order = language_results[['language_truth', 'language_pred', 'order']].groupby('order').agg(list)\n",
    "\n",
    "        truths: np.ndarray = by_order[by_order.index == order]['language_truth'].values\n",
    "        preds: np.ndarray = by_order[by_order.index == order]['language_pred'].values\n",
    "        truths: list = truths[0]\n",
    "        preds: list = preds[0]\n",
    "        running_accuracy = 0\n",
    "        for i in range(len(truths)):\n",
    "            running_accuracy += int(truths[i] == preds[i])\n",
    "        accuracy = running_accuracy / len(truths)\n",
    "        order_results['order'].append(order)\n",
    "        order_results['accuracy'].append(accuracy)\n",
    "        order_results['language'].append(language)\n",
    "\n",
    "sns.barplot(data=order_results, x='order', y='accuracy', hue='language')"
   ]
  },
  {
   "cell_type": "markdown",
   "metadata": {},
   "source": [
    "The plot above shows the accuracy of each language model increasing as the number of available context (words) increases. The plot indicates the best model is DE. This is not the case. What's happening here is the model not finding a probability for the history given and yielding the constant 1.0e-7, hence a consistent score for models of order 4 and above."
   ]
  },
  {
   "cell_type": "markdown",
   "metadata": {},
   "source": [
    "#### Perplexity scores by language"
   ]
  },
  {
   "cell_type": "code",
   "execution_count": 132,
   "metadata": {},
   "outputs": [
    {
     "name": "stderr",
     "output_type": "stream",
     "text": [
      "/opt/homebrew/anaconda3/lib/python3.11/site-packages/seaborn/_oldcore.py:1765: FutureWarning: unique with argument that is not not a Series, Index, ExtensionArray, or np.ndarray is deprecated and will raise in a future version.\n",
      "  order = pd.unique(vector)\n",
      "/opt/homebrew/anaconda3/lib/python3.11/site-packages/seaborn/_oldcore.py:1765: FutureWarning: unique with argument that is not not a Series, Index, ExtensionArray, or np.ndarray is deprecated and will raise in a future version.\n",
      "  order = pd.unique(vector)\n"
     ]
    },
    {
     "data": {
      "text/plain": [
       "<Axes: >"
      ]
     },
     "execution_count": 132,
     "metadata": {},
     "output_type": "execute_result"
    },
    {
     "data": {
      "image/png": "[encoded data removed]",
      "text/plain": [
       "<Figure size 640x480 with 1 Axes>"
      ]
     },
     "metadata": {},
     "output_type": "display_data"
    }
   ],
   "source": [
    "import seaborn as sns\n",
    "perplexity_by_language = RESULTS[['language_truth', 'order', 'perplexity_score']].groupby(['language_truth', 'order']).mean()\n",
    "\n",
    "results = {}\n",
    "results['language_truth'] = [lang[0] for lang in perplexity_by_language.index]\n",
    "results['perplexity_score'] = perplexity_by_language['perplexity_score'].values\n",
    "results['order'] = [lang[1] for lang in perplexity_by_language.index]\n",
    "\n",
    "sns.barplot(data=results, x='language_truth', y='perplexity_score', hue='order')"
   ]
  },
  {
   "cell_type": "markdown",
   "metadata": {},
   "source": [
    "This plot is as expected, we have constant values for perplexity scores. If no word is found in the history, we add a very small number. This tells me that even though the model was trained on the datasets provided, the sentences provided in the test file were not commonly seen in the test files.\n",
    "\n",
    "It makes sense for the letter language models to have variable perplexity scores given predicting the next letter in a word given n number of tokens is probabilistically easier than predicting the next word. \n",
    "\n",
    "Due to this model being a naive probabilistic model, the only way to obtain a more robust model would be to train it on more data. Why don't we test this hypothesis? The less data a probabilistic model has during training the poorer it will perform. Let's train a model on english and see how it performs on other languages."
   ]
  },
  {
   "cell_type": "markdown",
   "metadata": {},
   "source": [
    "#### Training word model on more corpus"
   ]
  },
  {
   "cell_type": "code",
   "execution_count": 9,
   "metadata": {},
   "outputs": [
    {
     "name": "stderr",
     "output_type": "stream",
     "text": [
      "[nltk_data] Downloading package brown to /Users/adavila/nltk_data...\n",
      "[nltk_data]   Package brown is already up-to-date!\n",
      "[nltk_data] Downloading package twitter_samples to\n",
      "[nltk_data]     /Users/adavila/nltk_data...\n",
      "[nltk_data]   Package twitter_samples is already up-to-date!\n",
      "[nltk_data] Downloading package movie_reviews to\n",
      "[nltk_data]     /Users/adavila/nltk_data...\n",
      "[nltk_data]   Package movie_reviews is already up-to-date!\n",
      "[nltk_data] Downloading package product_reviews_2 to\n",
      "[nltk_data]     /Users/adavila/nltk_data...\n",
      "[nltk_data]   Package product_reviews_2 is already up-to-date!\n"
     ]
    },
    {
     "name": "stdout",
     "output_type": "stream",
     "text": [
      "Using 156327 sentences from 4 sources as training data\n"
     ]
    }
   ],
   "source": [
    "# download corpora\n",
    "import nltk\n",
    "from nltk.corpus import (\n",
    "    brown, \n",
    "    movie_reviews, \n",
    "    product_reviews_2,\n",
    "    twitter_samples\n",
    ")\n",
    "\n",
    "nltk.download('brown')\n",
    "nltk.download('twitter_samples')\n",
    "nltk.download('movie_reviews')\n",
    "nltk.download('product_reviews_2')\n",
    "\n",
    "sentences = []\n",
    "sentences.extend(brown.sents())\n",
    "sentences.extend([word_tokenize(tweet) for tweet in twitter_samples.strings()])\n",
    "sentences.extend(movie_reviews.sents())\n",
    "sentences.extend(product_reviews_2.sents())\n",
    "\n",
    "print(f'Using {len(sentences)} sentences from 4 sources as training data')"
   ]
  },
  {
   "cell_type": "markdown",
   "metadata": {},
   "source": [
    "Given the data is a list of lists where each list is a tokenized sentence, let's rewrite the training function to accept a list of tokenized sentences."
   ]
  },
  {
   "cell_type": "code",
   "execution_count": 7,
   "metadata": {},
   "outputs": [],
   "source": [
    "def train_word_lm_large(sentences, order=4):\n",
    "    lm = defaultdict(Counter)\n",
    "    for s in tqdm.tqdm(sentences):\n",
    "        # s = word_tokenize(s) - assuming it's already tokenized\n",
    "        pad = ['~']*order\n",
    "        for j in range(len(s)):\n",
    "            pad.extend([s[j]])\n",
    "            data:list[str] = pad\n",
    "            for i in range(len(data)-order):\n",
    "                history, word = data[i: i+order], data[i+order]\n",
    "                lm[\" \".join(history)][word]+=1\n",
    "\n",
    "    outlm = {hist:normalize(words) for hist, words in lm.items()}\n",
    "    return outlm\n"
   ]
  },
  {
   "cell_type": "code",
   "execution_count": 10,
   "metadata": {},
   "outputs": [
    {
     "name": "stderr",
     "output_type": "stream",
     "text": [
      "100%|██████████| 156327/156327 [00:09<00:00, 17345.73it/s]\n",
      "100%|██████████| 156327/156327 [00:08<00:00, 17504.49it/s]\n",
      "100%|██████████| 156327/156327 [00:08<00:00, 17543.15it/s]\n",
      "100%|██████████| 156327/156327 [00:08<00:00, 17515.31it/s]\n",
      "100%|██████████| 156327/156327 [00:08<00:00, 17557.18it/s]\n",
      "100%|██████████| 156327/156327 [00:08<00:00, 17534.20it/s]\n",
      "100%|██████████| 156327/156327 [00:10<00:00, 14508.33it/s]\n",
      "100%|██████████| 156327/156327 [00:10<00:00, 14505.64it/s]\n",
      "100%|██████████| 156327/156327 [00:10<00:00, 14675.43it/s]\n",
      "100%|██████████| 156327/156327 [00:10<00:00, 14703.07it/s]\n",
      "100%|██████████| 156327/156327 [00:10<00:00, 14742.66it/s]\n",
      "100%|██████████| 156327/156327 [00:10<00:00, 14771.69it/s]\n",
      "100%|██████████| 2/2 [02:00<00:00, 60.14s/it]\n"
     ]
    }
   ],
   "source": [
    "# let's train 30 (ngrams 1-5 and 6 languages) language models\n",
    "# ...hopefully it's not too expensive\n",
    "import tqdm\n",
    "\n",
    "large_models = {}\n",
    "languages = ['de', 'da', 'en', 'fr', 'it', 'nl']\n",
    "\n",
    "\n",
    "for order in tqdm.tqdm(range(2)):\n",
    "    language_models = {}\n",
    "    for language in languages:\n",
    "        language_models[language] = train_word_lm_large(\n",
    "                                        sentences=sentences, \n",
    "                                        order=order\n",
    "                                    )\n",
    "    large_models[order] = language_models\n"
   ]
  },
  {
   "cell_type": "markdown",
   "metadata": {},
   "source": [
    "Now that the models have been trained, let's test our test data. I'm certain all models will perform poorly except english. Nevertheless, I expect the english model to have improved drastically."
   ]
  },
  {
   "cell_type": "code",
   "execution_count": 11,
   "metadata": {},
   "outputs": [
    {
     "name": "stdout",
     "output_type": "stream",
     "text": [
      "***Model 1***\n",
      "Model da has accuracy 0.0% with 0.0 out of 200\n",
      "Model de has accuracy 100.0% with 200.0 out of 200\n",
      "Model en has accuracy 0.0% with 0.0 out of 200\n",
      "Model fr has accuracy 0.0% with 0.0 out of 200\n",
      "Model it has accuracy 0.0% with 0.0 out of 200\n",
      "Model nl has accuracy 0.0% with 0.0 out of 200\n",
      "***Model 2***\n",
      "Model da has accuracy 0.0% with 0.0 out of 200\n",
      "Model de has accuracy 100.0% with 200.0 out of 200\n",
      "Model en has accuracy 0.0% with 0.0 out of 200\n",
      "Model fr has accuracy 0.0% with 0.0 out of 200\n",
      "Model it has accuracy 0.0% with 0.0 out of 200\n",
      "Model nl has accuracy 0.0% with 0.0 out of 200\n"
     ]
    }
   ],
   "source": [
    "test_data:list[str] = open('./lab2/test.txt').readlines()\n",
    "\n",
    "def get_metrics_large(metrics: pd.DataFrame):\n",
    "        \"\"\"\n",
    "        Print metrics for a given test suite\n",
    "        \"\"\"\n",
    "        from sklearn.metrics import accuracy_score\n",
    "        languages = ['da', 'de', 'en', 'fr', 'it', 'nl']\n",
    "        for language in languages:\n",
    "            local_metrics = metrics[metrics['language_truth'] == language]\n",
    "            accuracy = accuracy_score(y_true=local_metrics['language_truth'], y_pred=local_metrics['language_pred'])\n",
    "            print(f\"Model {language} has accuracy {accuracy*100}% with {accuracy*len(local_metrics)} out of {len(local_metrics)}\")\n",
    "\n",
    "\n",
    "LARGE_RESULTS = pd.DataFrame()\n",
    "scores = []\n",
    "for order in range(2):\n",
    "    n_gram_metrics, score = test_ngram_model_word(test_data, order=order, ngram_models=large_models[order])\n",
    "    print(f'***Model {order+1}***')\n",
    "    scores.append(score)\n",
    "    get_metrics_large(n_gram_metrics)\n",
    "    LARGE_RESULTS = pd.concat([LARGE_RESULTS, n_gram_metrics])"
   ]
  },
  {
   "cell_type": "markdown",
   "metadata": {},
   "source": [
    "Okay these aren't good results. My intuition tells me more than one model has the same perplexity score, thus making the function spoof us with a \"best model\". If we plot out the scores, we'll see this behavior. Let's rewrite the function to only take into consideration the english language."
   ]
  },
  {
   "cell_type": "code",
   "execution_count": 25,
   "metadata": {},
   "outputs": [
    {
     "data": {
      "image/png": "[encoded data removed]",
      "text/plain": [
       "<Figure size 5400x1800 with 2 Axes>"
      ]
     },
     "metadata": {},
     "output_type": "display_data"
    }
   ],
   "source": [
    "import random\n",
    "import seaborn as sns\n",
    "import matplotlib.pyplot as plt\n",
    "# generate random number to select a run from our test data\n",
    "random_int = random.randint(0, len(test_data))\n",
    "# figure, axis = plt.subplots(5, 6)\n",
    "# print(pd.DataFrame(score[random_int]))\n",
    "fig, axs = plt.subplots(ncols=2, sharey=True, figsize=(18, 6), dpi=300)\n",
    "for i, score in enumerate(range(0, 2)):\n",
    "    score = scores[score]\n",
    "    sns.barplot(\n",
    "        pd.DataFrame(score[random_int]), \n",
    "        x='model', \n",
    "        y='score',\n",
    "        ax=axs[i]\n",
    "    )"
   ]
  },
  {
   "cell_type": "markdown",
   "metadata": {},
   "source": [
    "If we run the model on the testing data set we can't really use the accuracy as a metric since the model is only germane to english. Due to this I'm only going to evaluate this model on it's perplexity."
   ]
  },
  {
   "cell_type": "code",
   "execution_count": 31,
   "metadata": {},
   "outputs": [
    {
     "data": {
      "image/png": "[encoded data removed]",
      "text/plain": [
       "<Figure size 5400x1800 with 2 Axes>"
      ]
     },
     "metadata": {},
     "output_type": "display_data"
    }
   ],
   "source": [
    "eng_models_larg: list[dict] = [{'en': {key: models.get('en')}} for key, models in large_models.items()]\n",
    "test_data:list[str] = open('./lab2/test.txt').readlines()\n",
    "\n",
    "\n",
    "LARGE_RESULTS = pd.DataFrame()\n",
    "scores = []\n",
    "for order in range(2):\n",
    "    n_gram_metrics, score = test_ngram_model_word(test_data, order=order, ngram_models=eng_models_larg[order])\n",
    "    scores.append(score)\n",
    "    LARGE_RESULTS = pd.concat([LARGE_RESULTS, n_gram_metrics])\n",
    "\n",
    "# generate random number to select a run from our test data\n",
    "random_int = random.randint(0, len(test_data))\n",
    "# figure, axis = plt.subplots(5, 6)\n",
    "# print(pd.DataFrame(score[random_int]))\n",
    "fig, axs = plt.subplots(ncols=2, sharey=True, figsize=(18, 6), dpi=300)\n",
    "for i, score in enumerate(range(0, 2)):\n",
    "    score = scores[score]\n",
    "    sns.barplot(\n",
    "        pd.DataFrame(score[random_int]), \n",
    "        x='model', \n",
    "        y='score',\n",
    "        ax=axs[i]\n",
    "    )"
   ]
  },
  {
   "cell_type": "markdown",
   "metadata": {},
   "source": [
    "Visualizing just those two models I can speculate the model isn't doing a good job at finding the next word given previous n words. We reject the hypothesis formulated earlier given this naive experiment. This allows me to speculate that a more complex approach might be needed in order to obtain a better model."
   ]
  },
  {
   "cell_type": "markdown",
   "metadata": {},
   "source": [
    "#### Word LM for Gender Identification"
   ]
  },
  {
   "cell_type": "markdown",
   "metadata": {},
   "source": [
    "Let's check if we can use the word lm for gender identification. This might be easier given the training dataset is english. Maybe we can use the big model for this task too."
   ]
  },
  {
   "cell_type": "code",
   "execution_count": 32,
   "metadata": {},
   "outputs": [
    {
     "name": "stderr",
     "output_type": "stream",
     "text": [
      "100%|██████████| 315469/315469 [00:38<00:00, 8094.42it/s]\n",
      "100%|██████████| 273965/273965 [00:32<00:00, 8514.69it/s]\n",
      "100%|██████████| 315469/315469 [00:41<00:00, 7624.90it/s]\n",
      "100%|██████████| 273965/273965 [00:35<00:00, 7771.77it/s]\n",
      "100%|██████████| 315469/315469 [00:49<00:00, 6387.52it/s]\n",
      "100%|██████████| 273965/273965 [00:41<00:00, 6635.90it/s]\n",
      "100%|██████████| 315469/315469 [00:50<00:00, 6192.50it/s]\n",
      "100%|██████████| 273965/273965 [00:42<00:00, 6410.60it/s]\n",
      "100%|██████████| 315469/315469 [00:51<00:00, 6090.40it/s]\n",
      "100%|██████████| 273965/273965 [00:42<00:00, 6391.66it/s]\n",
      "100%|██████████| 315469/315469 [00:52<00:00, 5966.99it/s]\n",
      "100%|██████████| 273965/273965 [00:43<00:00, 6325.51it/s]\n",
      "100%|██████████| 315469/315469 [00:52<00:00, 5973.40it/s]\n",
      "100%|██████████| 273965/273965 [00:44<00:00, 6224.58it/s]\n",
      "100%|██████████| 315469/315469 [00:53<00:00, 5880.91it/s]\n",
      "100%|██████████| 273965/273965 [00:47<00:00, 5762.59it/s]\n",
      "100%|██████████| 315469/315469 [00:58<00:00, 5402.18it/s]\n",
      "100%|██████████| 273965/273965 [00:47<00:00, 5732.08it/s]\n",
      "100%|██████████| 315469/315469 [00:56<00:00, 5551.19it/s]\n",
      "100%|██████████| 273965/273965 [00:49<00:00, 5539.33it/s]\n",
      "100%|██████████| 10/10 [15:45<00:00, 94.56s/it] \n"
     ]
    }
   ],
   "source": [
    "# train models\n",
    "import tqdm\n",
    "gender_models = {}\n",
    "for order in tqdm.tqdm(range(10)):\n",
    "    gender_models[order] = {\n",
    "        'm': train_word_lm(os.path.abspath('./lab2/tennis.train.male.txt'), order),\n",
    "        'f': train_word_lm(os.path.abspath('./lab2/tennis.train.female.txt'), order),\n",
    "    }"
   ]
  },
  {
   "cell_type": "code",
   "execution_count": 36,
   "metadata": {},
   "outputs": [],
   "source": [
    "from sklearn.metrics import accuracy_score\n",
    "def test_ngram_model_gender(test_data, order, ngram_models):\n",
    "    history = {\n",
    "        'sentence_id': [],\n",
    "        'perplexity_score': [],\n",
    "        'language_pred': [],\n",
    "        'language_truth': [],\n",
    "        'order': []\n",
    "    }\n",
    "    for sentence_index, test in enumerate(test_data):\n",
    "        # get the text\n",
    "        gender = test.split('\\t')[0].lower()\n",
    "        text = test.split('\\t')[1]\n",
    "\n",
    "        # iterate over the unigram models\n",
    "        model_scores  = []\n",
    "        for model_lang, model in ngram_models.items():\n",
    "            try:\n",
    "                score = smoothed_perplexity_word_lm(text, model, order=order)\n",
    "            except ZeroDivisionError as e:\n",
    "                score = 0\n",
    "            model_scores.append({\n",
    "                'model': model_lang,\n",
    "                'score': score\n",
    "            })\n",
    "        model_scores.sort(key=lambda x: x['score'])\n",
    "        best_model = model_scores[0]\n",
    "        history['sentence_id'].append(sentence_index+1)\n",
    "        history['perplexity_score'].append(best_model.get('score'))\n",
    "        history['language_pred'].append(best_model.get('model'))\n",
    "        history['language_truth'].append(gender)\n",
    "        history['order'].append(order)\n",
    "\n",
    "    import pandas as pd\n",
    "    ngram_metrics = pd.DataFrame(history)\n",
    "    return ngram_metrics\n",
    "\n",
    "import pandas as pd\n",
    "\n",
    "def get_metrics_gender(metrics: pd.DataFrame):\n",
    "    \"\"\"\n",
    "    Print metrics for a given test suite\n",
    "    \"\"\"\n",
    "    import numpy as np\n",
    "    genders = ['m', 'f']\n",
    "    for gender in genders:\n",
    "        local_metrics = metrics[metrics['language_truth'] == gender]\n",
    "        accuracy = accuracy_score(y_true=local_metrics['language_pred'], y_pred=local_metrics['language_truth'])\n",
    "        # accuracy = np.mean(local_metrics['language_pred'] == local_metrics['language_truth'])\n",
    "        print(f\"Model {gender} has accuracy {accuracy*100}% with {accuracy*len(local_metrics)} out of {len(local_metrics)}\")"
   ]
  },
  {
   "cell_type": "code",
   "execution_count": 37,
   "metadata": {},
   "outputs": [
    {
     "name": "stderr",
     "output_type": "stream",
     "text": [
      " 10%|█         | 1/10 [00:59<08:59, 59.99s/it]"
     ]
    },
    {
     "name": "stdout",
     "output_type": "stream",
     "text": [
      "***Model 1***\n",
      "Model m has accuracy 53.47498893315626% with 2416.0 out of 4518\n",
      "Model f has accuracy 68.9935064935065% with 2550.0 out of 3696\n"
     ]
    },
    {
     "name": "stderr",
     "output_type": "stream",
     "text": [
      " 20%|██        | 2/10 [01:05<03:44, 28.00s/it]"
     ]
    },
    {
     "name": "stdout",
     "output_type": "stream",
     "text": [
      "***Model 2***\n",
      "Model m has accuracy 39.66356795042054% with 1792.0 out of 4518\n",
      "Model f has accuracy 53.86904761904761% with 1991.0 out of 3696\n"
     ]
    },
    {
     "name": "stderr",
     "output_type": "stream",
     "text": [
      " 30%|███       | 3/10 [01:07<01:53, 16.27s/it]"
     ]
    },
    {
     "name": "stdout",
     "output_type": "stream",
     "text": [
      "***Model 3***\n",
      "Model m has accuracy 37.51660026560425% with 1695.0 out of 4518\n",
      "Model f has accuracy 52.408008658008654% with 1936.9999999999998 out of 3696\n"
     ]
    },
    {
     "name": "stderr",
     "output_type": "stream",
     "text": [
      " 40%|████      | 4/10 [01:09<01:03, 10.53s/it]"
     ]
    },
    {
     "name": "stdout",
     "output_type": "stream",
     "text": [
      "***Model 4***\n",
      "Model m has accuracy 40.30544488711819% with 1821.0 out of 4518\n",
      "Model f has accuracy 52.62445887445888% with 1945.0000000000002 out of 3696\n"
     ]
    },
    {
     "name": "stderr",
     "output_type": "stream",
     "text": [
      " 50%|█████     | 5/10 [01:11<00:36,  7.31s/it]"
     ]
    },
    {
     "name": "stdout",
     "output_type": "stream",
     "text": [
      "***Model 5***\n",
      "Model m has accuracy 42.474546259406814% with 1918.9999999999998 out of 4518\n",
      "Model f has accuracy 53.003246753246756% with 1959.0000000000002 out of 3696\n"
     ]
    },
    {
     "name": "stderr",
     "output_type": "stream",
     "text": [
      " 60%|██████    | 6/10 [01:12<00:21,  5.36s/it]"
     ]
    },
    {
     "name": "stdout",
     "output_type": "stream",
     "text": [
      "***Model 6***\n",
      "Model m has accuracy 44.090305444887115% with 1992.0 out of 4518\n",
      "Model f has accuracy 51.73160173160173% with 1911.9999999999998 out of 3696\n"
     ]
    },
    {
     "name": "stderr",
     "output_type": "stream",
     "text": [
      " 70%|███████   | 7/10 [01:14<00:12,  4.12s/it]"
     ]
    },
    {
     "name": "stdout",
     "output_type": "stream",
     "text": [
      "***Model 7***\n",
      "Model m has accuracy 45.728198317839755% with 2066.0 out of 4518\n",
      "Model f has accuracy 52.27272727272727% with 1932.0 out of 3696\n"
     ]
    },
    {
     "name": "stderr",
     "output_type": "stream",
     "text": [
      " 80%|████████  | 8/10 [01:15<00:06,  3.30s/it]"
     ]
    },
    {
     "name": "stdout",
     "output_type": "stream",
     "text": [
      "***Model 8***\n",
      "Model m has accuracy 46.32580787959274% with 2093.0 out of 4518\n",
      "Model f has accuracy 52.78679653679653% with 1950.9999999999998 out of 3696\n"
     ]
    },
    {
     "name": "stderr",
     "output_type": "stream",
     "text": [
      " 90%|█████████ | 9/10 [01:17<00:02,  2.75s/it]"
     ]
    },
    {
     "name": "stdout",
     "output_type": "stream",
     "text": [
      "***Model 9***\n",
      "Model m has accuracy 46.193005754758744% with 2087.0 out of 4518\n",
      "Model f has accuracy 52.67857142857143% with 1947.0 out of 3696\n"
     ]
    },
    {
     "name": "stderr",
     "output_type": "stream",
     "text": [
      "100%|██████████| 10/10 [01:19<00:00,  7.91s/it]"
     ]
    },
    {
     "name": "stdout",
     "output_type": "stream",
     "text": [
      "***Model 10***\n",
      "Model m has accuracy 46.23727312970341% with 2089.0 out of 4518\n",
      "Model f has accuracy 52.62445887445888% with 1945.0000000000002 out of 3696\n"
     ]
    },
    {
     "name": "stderr",
     "output_type": "stream",
     "text": [
      "\n"
     ]
    },
    {
     "data": {
      "text/html": [
       "<div>\n",
       "<style scoped>\n",
       "    .dataframe tbody tr th:only-of-type {\n",
       "        vertical-align: middle;\n",
       "    }\n",
       "\n",
       "    .dataframe tbody tr th {\n",
       "        vertical-align: top;\n",
       "    }\n",
       "\n",
       "    .dataframe thead th {\n",
       "        text-align: right;\n",
       "    }\n",
       "</style>\n",
       "<table border=\"1\" class=\"dataframe\">\n",
       "  <thead>\n",
       "    <tr style=\"text-align: right;\">\n",
       "      <th></th>\n",
       "      <th>sentence_id</th>\n",
       "      <th>perplexity_score</th>\n",
       "      <th>language_pred</th>\n",
       "      <th>language_truth</th>\n",
       "      <th>order</th>\n",
       "    </tr>\n",
       "  </thead>\n",
       "  <tbody>\n",
       "    <tr>\n",
       "      <th>0</th>\n",
       "      <td>1</td>\n",
       "      <td>155.929957</td>\n",
       "      <td>f</td>\n",
       "      <td>m</td>\n",
       "      <td>0</td>\n",
       "    </tr>\n",
       "    <tr>\n",
       "      <th>1</th>\n",
       "      <td>2</td>\n",
       "      <td>281.481961</td>\n",
       "      <td>m</td>\n",
       "      <td>m</td>\n",
       "      <td>0</td>\n",
       "    </tr>\n",
       "  </tbody>\n",
       "</table>\n",
       "</div>"
      ],
      "text/plain": [
       "   sentence_id  perplexity_score language_pred language_truth  order\n",
       "0            1        155.929957             f              m      0\n",
       "1            2        281.481961             m              m      0"
      ]
     },
     "execution_count": 37,
     "metadata": {},
     "output_type": "execute_result"
    }
   ],
   "source": [
    "import time\n",
    "GENDER_RESULTS = pd.DataFrame()\n",
    "test_data = open(os.path.abspath('./lab2/tennis.test.txt')).readlines()\n",
    "for order in tqdm.tqdm(range(ORDER)):\n",
    "    n_gram_metrics = test_ngram_model_gender(test_data, order=order, ngram_models=gender_models[order])\n",
    "    print(f'***Model {order+1}***')\n",
    "    get_metrics_gender(n_gram_metrics)\n",
    "    GENDER_RESULTS = pd.concat([GENDER_RESULTS, n_gram_metrics])\n",
    "\n",
    "GENDER_RESULTS.head(2)"
   ]
  },
  {
   "cell_type": "markdown",
   "metadata": {},
   "source": [
    "We can see the models are actually producing metrics. Let's visualize the aggregate accuracy."
   ]
  },
  {
   "cell_type": "code",
   "execution_count": 39,
   "metadata": {},
   "outputs": [
    {
     "name": "stderr",
     "output_type": "stream",
     "text": [
      "/opt/homebrew/anaconda3/lib/python3.11/site-packages/seaborn/_oldcore.py:1765: FutureWarning: unique with argument that is not not a Series, Index, ExtensionArray, or np.ndarray is deprecated and will raise in a future version.\n",
      "  order = pd.unique(vector)\n"
     ]
    },
    {
     "data": {
      "text/plain": [
       "<Axes: >"
      ]
     },
     "execution_count": 39,
     "metadata": {},
     "output_type": "execute_result"
    },
    {
     "data": {
      "image/png": "[encoded data removed]",
      "text/plain": [
       "<Figure size 640x480 with 1 Axes>"
      ]
     },
     "metadata": {},
     "output_type": "display_data"
    }
   ],
   "source": [
    "import numpy as np\n",
    "import seaborn as sns\n",
    "from sklearn.metrics import accuracy_score\n",
    "# get accuracy by order\n",
    "order_results = {\n",
    "    'order': [],\n",
    "    'accuracy': []\n",
    "}\n",
    "\n",
    "by_order = GENDER_RESULTS[['language_truth', 'language_pred', 'order']].groupby('order').agg(list)\n",
    "\n",
    "for order in by_order.index:\n",
    "    truths: np.ndarray = by_order[by_order.index == order]['language_truth'].values\n",
    "    preds: np.ndarray = by_order[by_order.index == order]['language_pred'].values\n",
    "    truths: list = truths[0]\n",
    "    preds: list = preds[0]\n",
    "    running_accuracy = 0\n",
    "    accuracy = accuracy_score(y_true=truths,y_pred=preds)\n",
    "    order_results['order'].append(order)\n",
    "    order_results['accuracy'].append(accuracy)\n",
    "    \n",
    "\n",
    "sns.barplot(data=order_results, x='order', y='accuracy')"
   ]
  },
  {
   "cell_type": "markdown",
   "metadata": {},
   "source": [
    "Wow! This plot shows us a unigram model has a higher aggregate accuracy over all other ngram models. My intuition told me a model with a higher order would be more accurate than one with a lower order. Let's see which model at each ngram yields a higher accuracy."
   ]
  },
  {
   "cell_type": "code",
   "execution_count": 41,
   "metadata": {},
   "outputs": [
    {
     "name": "stderr",
     "output_type": "stream",
     "text": [
      "/opt/homebrew/anaconda3/lib/python3.11/site-packages/seaborn/_oldcore.py:1765: FutureWarning: unique with argument that is not not a Series, Index, ExtensionArray, or np.ndarray is deprecated and will raise in a future version.\n",
      "  order = pd.unique(vector)\n",
      "/opt/homebrew/anaconda3/lib/python3.11/site-packages/seaborn/_oldcore.py:1765: FutureWarning: unique with argument that is not not a Series, Index, ExtensionArray, or np.ndarray is deprecated and will raise in a future version.\n",
      "  order = pd.unique(vector)\n"
     ]
    },
    {
     "data": {
      "text/plain": [
       "<Axes: >"
      ]
     },
     "execution_count": 41,
     "metadata": {},
     "output_type": "execute_result"
    },
    {
     "data": {
      "image/png": "[encoded data removed]",
      "text/plain": [
       "<Figure size 640x480 with 1 Axes>"
      ]
     },
     "metadata": {},
     "output_type": "display_data"
    }
   ],
   "source": [
    "# break down accuracy by order and language\n",
    "# get accuracy by order\n",
    "order_results = {\n",
    "    'order': [],\n",
    "    'accuracy': [],\n",
    "    'language': []\n",
    "}\n",
    "\n",
    "genders = ['m', 'f']\n",
    "by_order = GENDER_RESULTS[['language_truth', 'language_pred', 'order']].groupby('order').agg(list)\n",
    "\n",
    "for order in by_order.index:\n",
    "    for language in genders:\n",
    "        language_results = GENDER_RESULTS[GENDER_RESULTS['language_truth'] == language]\n",
    "        by_order = language_results[['language_truth', 'language_pred', 'order']].groupby('order').agg(list)\n",
    "\n",
    "        truths: np.ndarray = by_order[by_order.index == order]['language_truth'].values\n",
    "        preds: np.ndarray = by_order[by_order.index == order]['language_pred'].values\n",
    "        truths: list = truths[0]\n",
    "        preds: list = preds[0]\n",
    "        running_accuracy = 0\n",
    "        for i in range(len(truths)):\n",
    "            running_accuracy += int(truths[i] == preds[i])\n",
    "        accuracy = running_accuracy / len(truths)\n",
    "        order_results['order'].append(order)\n",
    "        order_results['accuracy'].append(accuracy)\n",
    "        order_results['language'].append(language)\n",
    "sns.barplot(data=order_results, x='order', y='accuracy', hue='language')"
   ]
  },
  {
   "cell_type": "markdown",
   "metadata": {},
   "source": [
    "The models aren't doing too bad for detecting questions directed at women. Now this is only for accuracy. As we've learned in this module, we can measure how good a language model is by its perplexity. Let's break down the graph but by perplexity rather than accuracy."
   ]
  },
  {
   "cell_type": "code",
   "execution_count": 42,
   "metadata": {},
   "outputs": [
    {
     "data": {
      "text/plain": [
       "<Axes: xlabel='language_truth', ylabel='perplexity_score'>"
      ]
     },
     "execution_count": 42,
     "metadata": {},
     "output_type": "execute_result"
    },
    {
     "data": {
      "image/png": "[encoded data removed]",
      "text/plain": [
       "<Figure size 640x480 with 1 Axes>"
      ]
     },
     "metadata": {},
     "output_type": "display_data"
    }
   ],
   "source": [
    "import seaborn as sns\n",
    "perplexity_by_gender = GENDER_RESULTS[['language_truth', 'order', 'perplexity_score']].groupby(['language_truth', 'order']).mean()\n",
    "perplexity_by_gender['language_truth'] = [gender[0] for gender in perplexity_by_gender.index.values]\n",
    "perplexity_by_gender['order'] = [gender[1] for gender in perplexity_by_gender.index.values]\n",
    "\n",
    "sns.barplot(data=perplexity_by_gender, x='language_truth', y='perplexity_score', hue='order')"
   ]
  },
  {
   "cell_type": "markdown",
   "metadata": {},
   "source": [
    "The graph shows us an inverse relationship between the order and the average perplexity score. Intuitively this makes sense. A lower perplexity score describes a more confident model. If a model has more context, it's reasonable to assume it will be more confident in predicting the next word. Those models with an order of one cannot confidently predict the next work...yet they were the ones with the highest accuracy"
   ]
  },
  {
   "cell_type": "markdown",
   "metadata": {},
   "source": [
    "This concludes the lab where we explored the following Markov models\n",
    "- Letter ngram model\n",
    "- Word ngram model\n",
    "\n",
    "The letter ngram models performed better when detecting languages, yet a word model is better at detecting genders given a corpus of documents. We also explored training a large word model for language detection by training the model on a much larger corpus for English. We saw the model didn't yield better results, alluding to the need of a more sophisticated approach."
   ]
  },
  {
   "cell_type": "markdown",
   "metadata": {},
   "source": []
  }
 ],
 "metadata": {
  "kernelspec": {
   "display_name": "Python 3",
   "language": "python",
   "name": "python3"
  },
  "language_info": {
   "codemirror_mode": {
    "name": "ipython",
    "version": 3
   },
   "file_extension": ".py",
   "mimetype": "text/x-python",
   "name": "python",
   "nbconvert_exporter": "python",
   "pygments_lexer": "ipython3",
   "version": "3.11.3"
  }
 },
 "nbformat": 4,
 "nbformat_minor": 2
}
